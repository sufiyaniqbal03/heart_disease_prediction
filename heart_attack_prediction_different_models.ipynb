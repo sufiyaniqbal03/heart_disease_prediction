{
  "cells": [
    {
      "cell_type": "code",
      "execution_count": 4,
      "id": "27b12e55",
      "metadata": {
        "_cell_guid": "b1076dfc-b9ad-4769-8c92-a6c4dae69d19",
        "_uuid": "8f2839f25d086af736a60e9eeb907d3b93b6e0e5",
        "execution": {
          "iopub.execute_input": "2023-03-28T16:47:10.677156Z",
          "iopub.status.busy": "2023-03-28T16:47:10.676684Z",
          "iopub.status.idle": "2023-03-28T16:47:10.698778Z",
          "shell.execute_reply": "2023-03-28T16:47:10.697455Z"
        },
        "papermill": {
          "duration": 0.037462,
          "end_time": "2023-03-28T16:47:10.701573",
          "exception": false,
          "start_time": "2023-03-28T16:47:10.664111",
          "status": "completed"
        },
        "tags": [],
        "id": "27b12e55"
      },
      "outputs": [],
      "source": [
        "# This Python 3 environment comes with many helpful analytics libraries installed\n",
        "# It is defined by the kaggle/python Docker image: https://github.com/kaggle/docker-python\n",
        "# For example, here's several helpful packages to load\n",
        "\n",
        "import numpy as np # linear algebra\n",
        "import pandas as pd # data processing, CSV file I/O (e.g. pd.read_csv)\n",
        "\n",
        "# Input data files are available in the read-only \"../input/\" directory\n",
        "# For example, running this (by clicking run or pressing Shift+Enter) will list all files under the input directory\n",
        "\n",
        "import os\n",
        "for dirname, _, filenames in os.walk('/kaggle/input'):\n",
        "    for filename in filenames:\n",
        "        print(os.path.join(dirname, filename))\n",
        "\n",
        "# You can write up to 20GB to the current directory (/kaggle/working/) that gets preserved as output when you create a version using \"Save & Run All\" \n",
        "# You can also write temporary files to /kaggle/temp/, but they won't be saved outside of the current session"
      ]
    },
    {
      "cell_type": "code",
      "execution_count": 5,
      "id": "8d30b8c8",
      "metadata": {
        "execution": {
          "iopub.execute_input": "2023-03-28T16:47:10.722892Z",
          "iopub.status.busy": "2023-03-28T16:47:10.722478Z",
          "iopub.status.idle": "2023-03-28T16:47:12.551991Z",
          "shell.execute_reply": "2023-03-28T16:47:12.550722Z"
        },
        "papermill": {
          "duration": 1.843667,
          "end_time": "2023-03-28T16:47:12.555082",
          "exception": false,
          "start_time": "2023-03-28T16:47:10.711415",
          "status": "completed"
        },
        "tags": [],
        "id": "8d30b8c8"
      },
      "outputs": [],
      "source": [
        "#Importing Libraries\n",
        "import pandas as pd\n",
        "import numpy as np\n",
        "import matplotlib.pyplot as plt\n",
        "import seaborn as sns\n",
        "from sklearn.neighbors import KNeighborsClassifier\n",
        "from sklearn.ensemble import RandomForestClassifier"
      ]
    },
    {
      "cell_type": "code",
      "execution_count": 6,
      "id": "56fa107b",
      "metadata": {
        "execution": {
          "iopub.execute_input": "2023-03-28T16:47:12.576345Z",
          "iopub.status.busy": "2023-03-28T16:47:12.575921Z",
          "iopub.status.idle": "2023-03-28T16:47:12.593807Z",
          "shell.execute_reply": "2023-03-28T16:47:12.592462Z"
        },
        "papermill": {
          "duration": 0.03186,
          "end_time": "2023-03-28T16:47:12.596736",
          "exception": false,
          "start_time": "2023-03-28T16:47:12.564876",
          "status": "completed"
        },
        "tags": [],
        "id": "56fa107b"
      },
      "outputs": [],
      "source": [
        "#Importing Dataset\n",
        "df=pd.read_csv('/content/heart_failure_clinical_records_dataset (1).csv')"
      ]
    },
    {
      "cell_type": "code",
      "source": [],
      "metadata": {
        "id": "YzKQUgJPFTqj"
      },
      "id": "YzKQUgJPFTqj",
      "execution_count": 6,
      "outputs": []
    },
    {
      "cell_type": "code",
      "source": [],
      "metadata": {
        "id": "RBaJSeWEFOMx"
      },
      "id": "RBaJSeWEFOMx",
      "execution_count": 6,
      "outputs": []
    },
    {
      "cell_type": "markdown",
      "id": "7982a014",
      "metadata": {
        "papermill": {
          "duration": 0.010688,
          "end_time": "2023-03-28T16:47:12.617045",
          "exception": false,
          "start_time": "2023-03-28T16:47:12.606357",
          "status": "completed"
        },
        "tags": [],
        "id": "7982a014"
      },
      "source": [
        "# EDA"
      ]
    },
    {
      "cell_type": "code",
      "execution_count": 7,
      "id": "2de489c0",
      "metadata": {
        "execution": {
          "iopub.execute_input": "2023-03-28T16:47:12.638468Z",
          "iopub.status.busy": "2023-03-28T16:47:12.637737Z",
          "iopub.status.idle": "2023-03-28T16:47:12.677618Z",
          "shell.execute_reply": "2023-03-28T16:47:12.676274Z"
        },
        "papermill": {
          "duration": 0.053784,
          "end_time": "2023-03-28T16:47:12.680335",
          "exception": false,
          "start_time": "2023-03-28T16:47:12.626551",
          "status": "completed"
        },
        "tags": [],
        "colab": {
          "base_uri": "https://localhost:8080/",
          "height": 487
        },
        "id": "2de489c0",
        "outputId": "0b6b9052-707e-4582-b876-4c13875ab67a"
      },
      "outputs": [
        {
          "output_type": "execute_result",
          "data": {
            "text/plain": [
              "      age  anaemia  creatinine_phosphokinase  diabetes  ejection_fraction  \\\n",
              "0    75.0        0                       582         0                 20   \n",
              "1    55.0        0                      7861         0                 38   \n",
              "2    65.0        0                       146         0                 20   \n",
              "3    50.0        1                       111         0                 20   \n",
              "4    65.0        1                       160         1                 20   \n",
              "..    ...      ...                       ...       ...                ...   \n",
              "294  62.0        0                        61         1                 38   \n",
              "295  55.0        0                      1820         0                 38   \n",
              "296  45.0        0                      2060         1                 60   \n",
              "297  45.0        0                      2413         0                 38   \n",
              "298  50.0        0                       196         0                 45   \n",
              "\n",
              "     high_blood_pressure  platelets  serum_creatinine  serum_sodium  sex  \\\n",
              "0                      1  265000.00               1.9           130    1   \n",
              "1                      0  263358.03               1.1           136    1   \n",
              "2                      0  162000.00               1.3           129    1   \n",
              "3                      0  210000.00               1.9           137    1   \n",
              "4                      0  327000.00               2.7           116    0   \n",
              "..                   ...        ...               ...           ...  ...   \n",
              "294                    1  155000.00               1.1           143    1   \n",
              "295                    0  270000.00               1.2           139    0   \n",
              "296                    0  742000.00               0.8           138    0   \n",
              "297                    0  140000.00               1.4           140    1   \n",
              "298                    0  395000.00               1.6           136    1   \n",
              "\n",
              "     smoking  time  DEATH_EVENT  \n",
              "0          0     4            1  \n",
              "1          0     6            1  \n",
              "2          1     7            1  \n",
              "3          0     7            1  \n",
              "4          0     8            1  \n",
              "..       ...   ...          ...  \n",
              "294        1   270            0  \n",
              "295        0   271            0  \n",
              "296        0   278            0  \n",
              "297        1   280            0  \n",
              "298        1   285            0  \n",
              "\n",
              "[299 rows x 13 columns]"
            ],
            "text/html": [
              "\n",
              "  <div id=\"df-3e39ba13-5930-4f00-867c-25c8087d7036\">\n",
              "    <div class=\"colab-df-container\">\n",
              "      <div>\n",
              "<style scoped>\n",
              "    .dataframe tbody tr th:only-of-type {\n",
              "        vertical-align: middle;\n",
              "    }\n",
              "\n",
              "    .dataframe tbody tr th {\n",
              "        vertical-align: top;\n",
              "    }\n",
              "\n",
              "    .dataframe thead th {\n",
              "        text-align: right;\n",
              "    }\n",
              "</style>\n",
              "<table border=\"1\" class=\"dataframe\">\n",
              "  <thead>\n",
              "    <tr style=\"text-align: right;\">\n",
              "      <th></th>\n",
              "      <th>age</th>\n",
              "      <th>anaemia</th>\n",
              "      <th>creatinine_phosphokinase</th>\n",
              "      <th>diabetes</th>\n",
              "      <th>ejection_fraction</th>\n",
              "      <th>high_blood_pressure</th>\n",
              "      <th>platelets</th>\n",
              "      <th>serum_creatinine</th>\n",
              "      <th>serum_sodium</th>\n",
              "      <th>sex</th>\n",
              "      <th>smoking</th>\n",
              "      <th>time</th>\n",
              "      <th>DEATH_EVENT</th>\n",
              "    </tr>\n",
              "  </thead>\n",
              "  <tbody>\n",
              "    <tr>\n",
              "      <th>0</th>\n",
              "      <td>75.0</td>\n",
              "      <td>0</td>\n",
              "      <td>582</td>\n",
              "      <td>0</td>\n",
              "      <td>20</td>\n",
              "      <td>1</td>\n",
              "      <td>265000.00</td>\n",
              "      <td>1.9</td>\n",
              "      <td>130</td>\n",
              "      <td>1</td>\n",
              "      <td>0</td>\n",
              "      <td>4</td>\n",
              "      <td>1</td>\n",
              "    </tr>\n",
              "    <tr>\n",
              "      <th>1</th>\n",
              "      <td>55.0</td>\n",
              "      <td>0</td>\n",
              "      <td>7861</td>\n",
              "      <td>0</td>\n",
              "      <td>38</td>\n",
              "      <td>0</td>\n",
              "      <td>263358.03</td>\n",
              "      <td>1.1</td>\n",
              "      <td>136</td>\n",
              "      <td>1</td>\n",
              "      <td>0</td>\n",
              "      <td>6</td>\n",
              "      <td>1</td>\n",
              "    </tr>\n",
              "    <tr>\n",
              "      <th>2</th>\n",
              "      <td>65.0</td>\n",
              "      <td>0</td>\n",
              "      <td>146</td>\n",
              "      <td>0</td>\n",
              "      <td>20</td>\n",
              "      <td>0</td>\n",
              "      <td>162000.00</td>\n",
              "      <td>1.3</td>\n",
              "      <td>129</td>\n",
              "      <td>1</td>\n",
              "      <td>1</td>\n",
              "      <td>7</td>\n",
              "      <td>1</td>\n",
              "    </tr>\n",
              "    <tr>\n",
              "      <th>3</th>\n",
              "      <td>50.0</td>\n",
              "      <td>1</td>\n",
              "      <td>111</td>\n",
              "      <td>0</td>\n",
              "      <td>20</td>\n",
              "      <td>0</td>\n",
              "      <td>210000.00</td>\n",
              "      <td>1.9</td>\n",
              "      <td>137</td>\n",
              "      <td>1</td>\n",
              "      <td>0</td>\n",
              "      <td>7</td>\n",
              "      <td>1</td>\n",
              "    </tr>\n",
              "    <tr>\n",
              "      <th>4</th>\n",
              "      <td>65.0</td>\n",
              "      <td>1</td>\n",
              "      <td>160</td>\n",
              "      <td>1</td>\n",
              "      <td>20</td>\n",
              "      <td>0</td>\n",
              "      <td>327000.00</td>\n",
              "      <td>2.7</td>\n",
              "      <td>116</td>\n",
              "      <td>0</td>\n",
              "      <td>0</td>\n",
              "      <td>8</td>\n",
              "      <td>1</td>\n",
              "    </tr>\n",
              "    <tr>\n",
              "      <th>...</th>\n",
              "      <td>...</td>\n",
              "      <td>...</td>\n",
              "      <td>...</td>\n",
              "      <td>...</td>\n",
              "      <td>...</td>\n",
              "      <td>...</td>\n",
              "      <td>...</td>\n",
              "      <td>...</td>\n",
              "      <td>...</td>\n",
              "      <td>...</td>\n",
              "      <td>...</td>\n",
              "      <td>...</td>\n",
              "      <td>...</td>\n",
              "    </tr>\n",
              "    <tr>\n",
              "      <th>294</th>\n",
              "      <td>62.0</td>\n",
              "      <td>0</td>\n",
              "      <td>61</td>\n",
              "      <td>1</td>\n",
              "      <td>38</td>\n",
              "      <td>1</td>\n",
              "      <td>155000.00</td>\n",
              "      <td>1.1</td>\n",
              "      <td>143</td>\n",
              "      <td>1</td>\n",
              "      <td>1</td>\n",
              "      <td>270</td>\n",
              "      <td>0</td>\n",
              "    </tr>\n",
              "    <tr>\n",
              "      <th>295</th>\n",
              "      <td>55.0</td>\n",
              "      <td>0</td>\n",
              "      <td>1820</td>\n",
              "      <td>0</td>\n",
              "      <td>38</td>\n",
              "      <td>0</td>\n",
              "      <td>270000.00</td>\n",
              "      <td>1.2</td>\n",
              "      <td>139</td>\n",
              "      <td>0</td>\n",
              "      <td>0</td>\n",
              "      <td>271</td>\n",
              "      <td>0</td>\n",
              "    </tr>\n",
              "    <tr>\n",
              "      <th>296</th>\n",
              "      <td>45.0</td>\n",
              "      <td>0</td>\n",
              "      <td>2060</td>\n",
              "      <td>1</td>\n",
              "      <td>60</td>\n",
              "      <td>0</td>\n",
              "      <td>742000.00</td>\n",
              "      <td>0.8</td>\n",
              "      <td>138</td>\n",
              "      <td>0</td>\n",
              "      <td>0</td>\n",
              "      <td>278</td>\n",
              "      <td>0</td>\n",
              "    </tr>\n",
              "    <tr>\n",
              "      <th>297</th>\n",
              "      <td>45.0</td>\n",
              "      <td>0</td>\n",
              "      <td>2413</td>\n",
              "      <td>0</td>\n",
              "      <td>38</td>\n",
              "      <td>0</td>\n",
              "      <td>140000.00</td>\n",
              "      <td>1.4</td>\n",
              "      <td>140</td>\n",
              "      <td>1</td>\n",
              "      <td>1</td>\n",
              "      <td>280</td>\n",
              "      <td>0</td>\n",
              "    </tr>\n",
              "    <tr>\n",
              "      <th>298</th>\n",
              "      <td>50.0</td>\n",
              "      <td>0</td>\n",
              "      <td>196</td>\n",
              "      <td>0</td>\n",
              "      <td>45</td>\n",
              "      <td>0</td>\n",
              "      <td>395000.00</td>\n",
              "      <td>1.6</td>\n",
              "      <td>136</td>\n",
              "      <td>1</td>\n",
              "      <td>1</td>\n",
              "      <td>285</td>\n",
              "      <td>0</td>\n",
              "    </tr>\n",
              "  </tbody>\n",
              "</table>\n",
              "<p>299 rows × 13 columns</p>\n",
              "</div>\n",
              "      <button class=\"colab-df-convert\" onclick=\"convertToInteractive('df-3e39ba13-5930-4f00-867c-25c8087d7036')\"\n",
              "              title=\"Convert this dataframe to an interactive table.\"\n",
              "              style=\"display:none;\">\n",
              "        \n",
              "  <svg xmlns=\"http://www.w3.org/2000/svg\" height=\"24px\"viewBox=\"0 0 24 24\"\n",
              "       width=\"24px\">\n",
              "    <path d=\"M0 0h24v24H0V0z\" fill=\"none\"/>\n",
              "    <path d=\"M18.56 5.44l.94 2.06.94-2.06 2.06-.94-2.06-.94-.94-2.06-.94 2.06-2.06.94zm-11 1L8.5 8.5l.94-2.06 2.06-.94-2.06-.94L8.5 2.5l-.94 2.06-2.06.94zm10 10l.94 2.06.94-2.06 2.06-.94-2.06-.94-.94-2.06-.94 2.06-2.06.94z\"/><path d=\"M17.41 7.96l-1.37-1.37c-.4-.4-.92-.59-1.43-.59-.52 0-1.04.2-1.43.59L10.3 9.45l-7.72 7.72c-.78.78-.78 2.05 0 2.83L4 21.41c.39.39.9.59 1.41.59.51 0 1.02-.2 1.41-.59l7.78-7.78 2.81-2.81c.8-.78.8-2.07 0-2.86zM5.41 20L4 18.59l7.72-7.72 1.47 1.35L5.41 20z\"/>\n",
              "  </svg>\n",
              "      </button>\n",
              "      \n",
              "  <style>\n",
              "    .colab-df-container {\n",
              "      display:flex;\n",
              "      flex-wrap:wrap;\n",
              "      gap: 12px;\n",
              "    }\n",
              "\n",
              "    .colab-df-convert {\n",
              "      background-color: #E8F0FE;\n",
              "      border: none;\n",
              "      border-radius: 50%;\n",
              "      cursor: pointer;\n",
              "      display: none;\n",
              "      fill: #1967D2;\n",
              "      height: 32px;\n",
              "      padding: 0 0 0 0;\n",
              "      width: 32px;\n",
              "    }\n",
              "\n",
              "    .colab-df-convert:hover {\n",
              "      background-color: #E2EBFA;\n",
              "      box-shadow: 0px 1px 2px rgba(60, 64, 67, 0.3), 0px 1px 3px 1px rgba(60, 64, 67, 0.15);\n",
              "      fill: #174EA6;\n",
              "    }\n",
              "\n",
              "    [theme=dark] .colab-df-convert {\n",
              "      background-color: #3B4455;\n",
              "      fill: #D2E3FC;\n",
              "    }\n",
              "\n",
              "    [theme=dark] .colab-df-convert:hover {\n",
              "      background-color: #434B5C;\n",
              "      box-shadow: 0px 1px 3px 1px rgba(0, 0, 0, 0.15);\n",
              "      filter: drop-shadow(0px 1px 2px rgba(0, 0, 0, 0.3));\n",
              "      fill: #FFFFFF;\n",
              "    }\n",
              "  </style>\n",
              "\n",
              "      <script>\n",
              "        const buttonEl =\n",
              "          document.querySelector('#df-3e39ba13-5930-4f00-867c-25c8087d7036 button.colab-df-convert');\n",
              "        buttonEl.style.display =\n",
              "          google.colab.kernel.accessAllowed ? 'block' : 'none';\n",
              "\n",
              "        async function convertToInteractive(key) {\n",
              "          const element = document.querySelector('#df-3e39ba13-5930-4f00-867c-25c8087d7036');\n",
              "          const dataTable =\n",
              "            await google.colab.kernel.invokeFunction('convertToInteractive',\n",
              "                                                     [key], {});\n",
              "          if (!dataTable) return;\n",
              "\n",
              "          const docLinkHtml = 'Like what you see? Visit the ' +\n",
              "            '<a target=\"_blank\" href=https://colab.research.google.com/notebooks/data_table.ipynb>data table notebook</a>'\n",
              "            + ' to learn more about interactive tables.';\n",
              "          element.innerHTML = '';\n",
              "          dataTable['output_type'] = 'display_data';\n",
              "          await google.colab.output.renderOutput(dataTable, element);\n",
              "          const docLink = document.createElement('div');\n",
              "          docLink.innerHTML = docLinkHtml;\n",
              "          element.appendChild(docLink);\n",
              "        }\n",
              "      </script>\n",
              "    </div>\n",
              "  </div>\n",
              "  "
            ]
          },
          "metadata": {},
          "execution_count": 7
        }
      ],
      "source": [
        "df"
      ]
    },
    {
      "cell_type": "code",
      "execution_count": 8,
      "id": "ce0436b0",
      "metadata": {
        "execution": {
          "iopub.execute_input": "2023-03-28T16:47:12.703594Z",
          "iopub.status.busy": "2023-03-28T16:47:12.702902Z",
          "iopub.status.idle": "2023-03-28T16:47:12.728701Z",
          "shell.execute_reply": "2023-03-28T16:47:12.727013Z"
        },
        "papermill": {
          "duration": 0.042545,
          "end_time": "2023-03-28T16:47:12.732984",
          "exception": false,
          "start_time": "2023-03-28T16:47:12.690439",
          "status": "completed"
        },
        "tags": [],
        "colab": {
          "base_uri": "https://localhost:8080/"
        },
        "id": "ce0436b0",
        "outputId": "fa2e2ee8-7124-426e-cf00-e54e25c2756e"
      },
      "outputs": [
        {
          "output_type": "stream",
          "name": "stdout",
          "text": [
            "<class 'pandas.core.frame.DataFrame'>\n",
            "RangeIndex: 299 entries, 0 to 298\n",
            "Data columns (total 13 columns):\n",
            " #   Column                    Non-Null Count  Dtype  \n",
            "---  ------                    --------------  -----  \n",
            " 0   age                       299 non-null    float64\n",
            " 1   anaemia                   299 non-null    int64  \n",
            " 2   creatinine_phosphokinase  299 non-null    int64  \n",
            " 3   diabetes                  299 non-null    int64  \n",
            " 4   ejection_fraction         299 non-null    int64  \n",
            " 5   high_blood_pressure       299 non-null    int64  \n",
            " 6   platelets                 299 non-null    float64\n",
            " 7   serum_creatinine          299 non-null    float64\n",
            " 8   serum_sodium              299 non-null    int64  \n",
            " 9   sex                       299 non-null    int64  \n",
            " 10  smoking                   299 non-null    int64  \n",
            " 11  time                      299 non-null    int64  \n",
            " 12  DEATH_EVENT               299 non-null    int64  \n",
            "dtypes: float64(3), int64(10)\n",
            "memory usage: 30.5 KB\n"
          ]
        }
      ],
      "source": [
        "df.info()"
      ]
    },
    {
      "cell_type": "code",
      "execution_count": 9,
      "id": "5e107a0c",
      "metadata": {
        "execution": {
          "iopub.execute_input": "2023-03-28T16:47:12.757064Z",
          "iopub.status.busy": "2023-03-28T16:47:12.755904Z",
          "iopub.status.idle": "2023-03-28T16:47:12.766033Z",
          "shell.execute_reply": "2023-03-28T16:47:12.764729Z"
        },
        "papermill": {
          "duration": 0.024654,
          "end_time": "2023-03-28T16:47:12.768366",
          "exception": false,
          "start_time": "2023-03-28T16:47:12.743712",
          "status": "completed"
        },
        "tags": [],
        "colab": {
          "base_uri": "https://localhost:8080/"
        },
        "id": "5e107a0c",
        "outputId": "97548a47-3bd2-4b05-a9cd-1708262e624c"
      },
      "outputs": [
        {
          "output_type": "execute_result",
          "data": {
            "text/plain": [
              "age                         0\n",
              "anaemia                     0\n",
              "creatinine_phosphokinase    0\n",
              "diabetes                    0\n",
              "ejection_fraction           0\n",
              "high_blood_pressure         0\n",
              "platelets                   0\n",
              "serum_creatinine            0\n",
              "serum_sodium                0\n",
              "sex                         0\n",
              "smoking                     0\n",
              "time                        0\n",
              "DEATH_EVENT                 0\n",
              "dtype: int64"
            ]
          },
          "metadata": {},
          "execution_count": 9
        }
      ],
      "source": [
        "# Finding Null values\n",
        "df.isnull().sum()"
      ]
    },
    {
      "cell_type": "code",
      "execution_count": 10,
      "id": "672c36e9",
      "metadata": {
        "execution": {
          "iopub.execute_input": "2023-03-28T16:47:12.791673Z",
          "iopub.status.busy": "2023-03-28T16:47:12.790942Z",
          "iopub.status.idle": "2023-03-28T16:47:12.845476Z",
          "shell.execute_reply": "2023-03-28T16:47:12.844156Z"
        },
        "papermill": {
          "duration": 0.069351,
          "end_time": "2023-03-28T16:47:12.848067",
          "exception": false,
          "start_time": "2023-03-28T16:47:12.778716",
          "status": "completed"
        },
        "tags": [],
        "colab": {
          "base_uri": "https://localhost:8080/",
          "height": 364
        },
        "id": "672c36e9",
        "outputId": "cbbecd43-4694-42e0-9ee2-bc544d013e93"
      },
      "outputs": [
        {
          "output_type": "execute_result",
          "data": {
            "text/plain": [
              "              age     anaemia  creatinine_phosphokinase    diabetes  \\\n",
              "count  299.000000  299.000000                299.000000  299.000000   \n",
              "mean    60.833893    0.431438                581.839465    0.418060   \n",
              "std     11.894809    0.496107                970.287881    0.494067   \n",
              "min     40.000000    0.000000                 23.000000    0.000000   \n",
              "25%     51.000000    0.000000                116.500000    0.000000   \n",
              "50%     60.000000    0.000000                250.000000    0.000000   \n",
              "75%     70.000000    1.000000                582.000000    1.000000   \n",
              "max     95.000000    1.000000               7861.000000    1.000000   \n",
              "\n",
              "       ejection_fraction  high_blood_pressure      platelets  \\\n",
              "count         299.000000           299.000000     299.000000   \n",
              "mean           38.083612             0.351171  263358.029264   \n",
              "std            11.834841             0.478136   97804.236869   \n",
              "min            14.000000             0.000000   25100.000000   \n",
              "25%            30.000000             0.000000  212500.000000   \n",
              "50%            38.000000             0.000000  262000.000000   \n",
              "75%            45.000000             1.000000  303500.000000   \n",
              "max            80.000000             1.000000  850000.000000   \n",
              "\n",
              "       serum_creatinine  serum_sodium         sex    smoking        time  \\\n",
              "count         299.00000    299.000000  299.000000  299.00000  299.000000   \n",
              "mean            1.39388    136.625418    0.648829    0.32107  130.260870   \n",
              "std             1.03451      4.412477    0.478136    0.46767   77.614208   \n",
              "min             0.50000    113.000000    0.000000    0.00000    4.000000   \n",
              "25%             0.90000    134.000000    0.000000    0.00000   73.000000   \n",
              "50%             1.10000    137.000000    1.000000    0.00000  115.000000   \n",
              "75%             1.40000    140.000000    1.000000    1.00000  203.000000   \n",
              "max             9.40000    148.000000    1.000000    1.00000  285.000000   \n",
              "\n",
              "       DEATH_EVENT  \n",
              "count    299.00000  \n",
              "mean       0.32107  \n",
              "std        0.46767  \n",
              "min        0.00000  \n",
              "25%        0.00000  \n",
              "50%        0.00000  \n",
              "75%        1.00000  \n",
              "max        1.00000  "
            ],
            "text/html": [
              "\n",
              "  <div id=\"df-7a6e5101-6d7f-4860-b661-8d6a5817094e\">\n",
              "    <div class=\"colab-df-container\">\n",
              "      <div>\n",
              "<style scoped>\n",
              "    .dataframe tbody tr th:only-of-type {\n",
              "        vertical-align: middle;\n",
              "    }\n",
              "\n",
              "    .dataframe tbody tr th {\n",
              "        vertical-align: top;\n",
              "    }\n",
              "\n",
              "    .dataframe thead th {\n",
              "        text-align: right;\n",
              "    }\n",
              "</style>\n",
              "<table border=\"1\" class=\"dataframe\">\n",
              "  <thead>\n",
              "    <tr style=\"text-align: right;\">\n",
              "      <th></th>\n",
              "      <th>age</th>\n",
              "      <th>anaemia</th>\n",
              "      <th>creatinine_phosphokinase</th>\n",
              "      <th>diabetes</th>\n",
              "      <th>ejection_fraction</th>\n",
              "      <th>high_blood_pressure</th>\n",
              "      <th>platelets</th>\n",
              "      <th>serum_creatinine</th>\n",
              "      <th>serum_sodium</th>\n",
              "      <th>sex</th>\n",
              "      <th>smoking</th>\n",
              "      <th>time</th>\n",
              "      <th>DEATH_EVENT</th>\n",
              "    </tr>\n",
              "  </thead>\n",
              "  <tbody>\n",
              "    <tr>\n",
              "      <th>count</th>\n",
              "      <td>299.000000</td>\n",
              "      <td>299.000000</td>\n",
              "      <td>299.000000</td>\n",
              "      <td>299.000000</td>\n",
              "      <td>299.000000</td>\n",
              "      <td>299.000000</td>\n",
              "      <td>299.000000</td>\n",
              "      <td>299.00000</td>\n",
              "      <td>299.000000</td>\n",
              "      <td>299.000000</td>\n",
              "      <td>299.00000</td>\n",
              "      <td>299.000000</td>\n",
              "      <td>299.00000</td>\n",
              "    </tr>\n",
              "    <tr>\n",
              "      <th>mean</th>\n",
              "      <td>60.833893</td>\n",
              "      <td>0.431438</td>\n",
              "      <td>581.839465</td>\n",
              "      <td>0.418060</td>\n",
              "      <td>38.083612</td>\n",
              "      <td>0.351171</td>\n",
              "      <td>263358.029264</td>\n",
              "      <td>1.39388</td>\n",
              "      <td>136.625418</td>\n",
              "      <td>0.648829</td>\n",
              "      <td>0.32107</td>\n",
              "      <td>130.260870</td>\n",
              "      <td>0.32107</td>\n",
              "    </tr>\n",
              "    <tr>\n",
              "      <th>std</th>\n",
              "      <td>11.894809</td>\n",
              "      <td>0.496107</td>\n",
              "      <td>970.287881</td>\n",
              "      <td>0.494067</td>\n",
              "      <td>11.834841</td>\n",
              "      <td>0.478136</td>\n",
              "      <td>97804.236869</td>\n",
              "      <td>1.03451</td>\n",
              "      <td>4.412477</td>\n",
              "      <td>0.478136</td>\n",
              "      <td>0.46767</td>\n",
              "      <td>77.614208</td>\n",
              "      <td>0.46767</td>\n",
              "    </tr>\n",
              "    <tr>\n",
              "      <th>min</th>\n",
              "      <td>40.000000</td>\n",
              "      <td>0.000000</td>\n",
              "      <td>23.000000</td>\n",
              "      <td>0.000000</td>\n",
              "      <td>14.000000</td>\n",
              "      <td>0.000000</td>\n",
              "      <td>25100.000000</td>\n",
              "      <td>0.50000</td>\n",
              "      <td>113.000000</td>\n",
              "      <td>0.000000</td>\n",
              "      <td>0.00000</td>\n",
              "      <td>4.000000</td>\n",
              "      <td>0.00000</td>\n",
              "    </tr>\n",
              "    <tr>\n",
              "      <th>25%</th>\n",
              "      <td>51.000000</td>\n",
              "      <td>0.000000</td>\n",
              "      <td>116.500000</td>\n",
              "      <td>0.000000</td>\n",
              "      <td>30.000000</td>\n",
              "      <td>0.000000</td>\n",
              "      <td>212500.000000</td>\n",
              "      <td>0.90000</td>\n",
              "      <td>134.000000</td>\n",
              "      <td>0.000000</td>\n",
              "      <td>0.00000</td>\n",
              "      <td>73.000000</td>\n",
              "      <td>0.00000</td>\n",
              "    </tr>\n",
              "    <tr>\n",
              "      <th>50%</th>\n",
              "      <td>60.000000</td>\n",
              "      <td>0.000000</td>\n",
              "      <td>250.000000</td>\n",
              "      <td>0.000000</td>\n",
              "      <td>38.000000</td>\n",
              "      <td>0.000000</td>\n",
              "      <td>262000.000000</td>\n",
              "      <td>1.10000</td>\n",
              "      <td>137.000000</td>\n",
              "      <td>1.000000</td>\n",
              "      <td>0.00000</td>\n",
              "      <td>115.000000</td>\n",
              "      <td>0.00000</td>\n",
              "    </tr>\n",
              "    <tr>\n",
              "      <th>75%</th>\n",
              "      <td>70.000000</td>\n",
              "      <td>1.000000</td>\n",
              "      <td>582.000000</td>\n",
              "      <td>1.000000</td>\n",
              "      <td>45.000000</td>\n",
              "      <td>1.000000</td>\n",
              "      <td>303500.000000</td>\n",
              "      <td>1.40000</td>\n",
              "      <td>140.000000</td>\n",
              "      <td>1.000000</td>\n",
              "      <td>1.00000</td>\n",
              "      <td>203.000000</td>\n",
              "      <td>1.00000</td>\n",
              "    </tr>\n",
              "    <tr>\n",
              "      <th>max</th>\n",
              "      <td>95.000000</td>\n",
              "      <td>1.000000</td>\n",
              "      <td>7861.000000</td>\n",
              "      <td>1.000000</td>\n",
              "      <td>80.000000</td>\n",
              "      <td>1.000000</td>\n",
              "      <td>850000.000000</td>\n",
              "      <td>9.40000</td>\n",
              "      <td>148.000000</td>\n",
              "      <td>1.000000</td>\n",
              "      <td>1.00000</td>\n",
              "      <td>285.000000</td>\n",
              "      <td>1.00000</td>\n",
              "    </tr>\n",
              "  </tbody>\n",
              "</table>\n",
              "</div>\n",
              "      <button class=\"colab-df-convert\" onclick=\"convertToInteractive('df-7a6e5101-6d7f-4860-b661-8d6a5817094e')\"\n",
              "              title=\"Convert this dataframe to an interactive table.\"\n",
              "              style=\"display:none;\">\n",
              "        \n",
              "  <svg xmlns=\"http://www.w3.org/2000/svg\" height=\"24px\"viewBox=\"0 0 24 24\"\n",
              "       width=\"24px\">\n",
              "    <path d=\"M0 0h24v24H0V0z\" fill=\"none\"/>\n",
              "    <path d=\"M18.56 5.44l.94 2.06.94-2.06 2.06-.94-2.06-.94-.94-2.06-.94 2.06-2.06.94zm-11 1L8.5 8.5l.94-2.06 2.06-.94-2.06-.94L8.5 2.5l-.94 2.06-2.06.94zm10 10l.94 2.06.94-2.06 2.06-.94-2.06-.94-.94-2.06-.94 2.06-2.06.94z\"/><path d=\"M17.41 7.96l-1.37-1.37c-.4-.4-.92-.59-1.43-.59-.52 0-1.04.2-1.43.59L10.3 9.45l-7.72 7.72c-.78.78-.78 2.05 0 2.83L4 21.41c.39.39.9.59 1.41.59.51 0 1.02-.2 1.41-.59l7.78-7.78 2.81-2.81c.8-.78.8-2.07 0-2.86zM5.41 20L4 18.59l7.72-7.72 1.47 1.35L5.41 20z\"/>\n",
              "  </svg>\n",
              "      </button>\n",
              "      \n",
              "  <style>\n",
              "    .colab-df-container {\n",
              "      display:flex;\n",
              "      flex-wrap:wrap;\n",
              "      gap: 12px;\n",
              "    }\n",
              "\n",
              "    .colab-df-convert {\n",
              "      background-color: #E8F0FE;\n",
              "      border: none;\n",
              "      border-radius: 50%;\n",
              "      cursor: pointer;\n",
              "      display: none;\n",
              "      fill: #1967D2;\n",
              "      height: 32px;\n",
              "      padding: 0 0 0 0;\n",
              "      width: 32px;\n",
              "    }\n",
              "\n",
              "    .colab-df-convert:hover {\n",
              "      background-color: #E2EBFA;\n",
              "      box-shadow: 0px 1px 2px rgba(60, 64, 67, 0.3), 0px 1px 3px 1px rgba(60, 64, 67, 0.15);\n",
              "      fill: #174EA6;\n",
              "    }\n",
              "\n",
              "    [theme=dark] .colab-df-convert {\n",
              "      background-color: #3B4455;\n",
              "      fill: #D2E3FC;\n",
              "    }\n",
              "\n",
              "    [theme=dark] .colab-df-convert:hover {\n",
              "      background-color: #434B5C;\n",
              "      box-shadow: 0px 1px 3px 1px rgba(0, 0, 0, 0.15);\n",
              "      filter: drop-shadow(0px 1px 2px rgba(0, 0, 0, 0.3));\n",
              "      fill: #FFFFFF;\n",
              "    }\n",
              "  </style>\n",
              "\n",
              "      <script>\n",
              "        const buttonEl =\n",
              "          document.querySelector('#df-7a6e5101-6d7f-4860-b661-8d6a5817094e button.colab-df-convert');\n",
              "        buttonEl.style.display =\n",
              "          google.colab.kernel.accessAllowed ? 'block' : 'none';\n",
              "\n",
              "        async function convertToInteractive(key) {\n",
              "          const element = document.querySelector('#df-7a6e5101-6d7f-4860-b661-8d6a5817094e');\n",
              "          const dataTable =\n",
              "            await google.colab.kernel.invokeFunction('convertToInteractive',\n",
              "                                                     [key], {});\n",
              "          if (!dataTable) return;\n",
              "\n",
              "          const docLinkHtml = 'Like what you see? Visit the ' +\n",
              "            '<a target=\"_blank\" href=https://colab.research.google.com/notebooks/data_table.ipynb>data table notebook</a>'\n",
              "            + ' to learn more about interactive tables.';\n",
              "          element.innerHTML = '';\n",
              "          dataTable['output_type'] = 'display_data';\n",
              "          await google.colab.output.renderOutput(dataTable, element);\n",
              "          const docLink = document.createElement('div');\n",
              "          docLink.innerHTML = docLinkHtml;\n",
              "          element.appendChild(docLink);\n",
              "        }\n",
              "      </script>\n",
              "    </div>\n",
              "  </div>\n",
              "  "
            ]
          },
          "metadata": {},
          "execution_count": 10
        }
      ],
      "source": [
        "df.describe()"
      ]
    },
    {
      "cell_type": "markdown",
      "id": "14703e22",
      "metadata": {
        "papermill": {
          "duration": 0.010399,
          "end_time": "2023-03-28T16:47:12.869016",
          "exception": false,
          "start_time": "2023-03-28T16:47:12.858617",
          "status": "completed"
        },
        "tags": [],
        "id": "14703e22"
      },
      "source": [
        "# Visualisation"
      ]
    },
    {
      "cell_type": "code",
      "execution_count": 11,
      "id": "fc5adb84",
      "metadata": {
        "execution": {
          "iopub.execute_input": "2023-03-28T16:47:12.893082Z",
          "iopub.status.busy": "2023-03-28T16:47:12.892624Z",
          "iopub.status.idle": "2023-03-28T16:47:13.256935Z",
          "shell.execute_reply": "2023-03-28T16:47:13.255821Z"
        },
        "papermill": {
          "duration": 0.379546,
          "end_time": "2023-03-28T16:47:13.259613",
          "exception": false,
          "start_time": "2023-03-28T16:47:12.880067",
          "status": "completed"
        },
        "tags": [],
        "colab": {
          "base_uri": "https://localhost:8080/",
          "height": 673
        },
        "id": "fc5adb84",
        "outputId": "f2f9bc49-e3a6-4009-de85-d6e3e11a2d34"
      },
      "outputs": [
        {
          "output_type": "stream",
          "name": "stderr",
          "text": [
            "<ipython-input-11-f590dae539f6>:1: UserWarning: \n",
            "\n",
            "`distplot` is a deprecated function and will be removed in seaborn v0.14.0.\n",
            "\n",
            "Please adapt your code to use either `displot` (a figure-level function with\n",
            "similar flexibility) or `histplot` (an axes-level function for histograms).\n",
            "\n",
            "For a guide to updating your code to use the new functions, please see\n",
            "https://gist.github.com/mwaskom/de44147ed2974457ad6372750bbe5751\n",
            "\n",
            "  sns.distplot(df['platelets'])\n"
          ]
        },
        {
          "output_type": "execute_result",
          "data": {
            "text/plain": [
              "<Axes: xlabel='platelets', ylabel='Density'>"
            ]
          },
          "metadata": {},
          "execution_count": 11
        },
        {
          "output_type": "display_data",
          "data": {
            "text/plain": [
              "<Figure size 640x480 with 1 Axes>"
            ],
            "image/png": "[encoded data removed]"
          },
          "metadata": {}
        }
      ],
      "source": [
        "sns.distplot(df['platelets'])"
      ]
    },
    {
      "cell_type": "code",
      "execution_count": 12,
      "id": "8920e564",
      "metadata": {
        "execution": {
          "iopub.execute_input": "2023-03-28T16:47:13.284460Z",
          "iopub.status.busy": "2023-03-28T16:47:13.283739Z",
          "iopub.status.idle": "2023-03-28T16:47:13.827512Z",
          "shell.execute_reply": "2023-03-28T16:47:13.826115Z"
        },
        "papermill": {
          "duration": 0.559412,
          "end_time": "2023-03-28T16:47:13.830312",
          "exception": false,
          "start_time": "2023-03-28T16:47:13.270900",
          "status": "completed"
        },
        "tags": [],
        "colab": {
          "base_uri": "https://localhost:8080/",
          "height": 620
        },
        "id": "8920e564",
        "outputId": "6461382b-b7af-4eed-f07f-cd6063fc9e4a"
      },
      "outputs": [
        {
          "output_type": "execute_result",
          "data": {
            "text/plain": [
              "<Axes: >"
            ]
          },
          "metadata": {},
          "execution_count": 12
        },
        {
          "output_type": "display_data",
          "data": {
            "text/plain": [
              "<Figure size 640x480 with 2 Axes>"
            ],
            "image/png": "[encoded data removed]"
          },
          "metadata": {}
        }
      ],
      "source": [
        "sns.heatmap(df.isnull())"
      ]
    },
    {
      "cell_type": "markdown",
      "id": "7b73d05f",
      "metadata": {
        "papermill": {
          "duration": 0.012446,
          "end_time": "2023-03-28T16:47:13.855039",
          "exception": false,
          "start_time": "2023-03-28T16:47:13.842593",
          "status": "completed"
        },
        "tags": [],
        "id": "7b73d05f"
      },
      "source": [
        "# Model Building"
      ]
    },
    {
      "cell_type": "code",
      "execution_count": 13,
      "id": "2154c5e7",
      "metadata": {
        "execution": {
          "iopub.execute_input": "2023-03-28T16:47:13.881801Z",
          "iopub.status.busy": "2023-03-28T16:47:13.881368Z",
          "iopub.status.idle": "2023-03-28T16:47:13.887502Z",
          "shell.execute_reply": "2023-03-28T16:47:13.886323Z"
        },
        "papermill": {
          "duration": 0.023086,
          "end_time": "2023-03-28T16:47:13.890179",
          "exception": false,
          "start_time": "2023-03-28T16:47:13.867093",
          "status": "completed"
        },
        "tags": [],
        "id": "2154c5e7"
      },
      "outputs": [],
      "source": [
        "# Splitting data\n",
        "X=df.iloc[:,0:12]\n",
        "y=df.iloc[:,-1]"
      ]
    },
    {
      "cell_type": "code",
      "execution_count": 14,
      "id": "d4bbaede",
      "metadata": {
        "execution": {
          "iopub.execute_input": "2023-03-28T16:47:13.917724Z",
          "iopub.status.busy": "2023-03-28T16:47:13.917276Z",
          "iopub.status.idle": "2023-03-28T16:47:13.925957Z",
          "shell.execute_reply": "2023-03-28T16:47:13.924720Z"
        },
        "papermill": {
          "duration": 0.024916,
          "end_time": "2023-03-28T16:47:13.928257",
          "exception": false,
          "start_time": "2023-03-28T16:47:13.903341",
          "status": "completed"
        },
        "tags": [],
        "colab": {
          "base_uri": "https://localhost:8080/"
        },
        "id": "d4bbaede",
        "outputId": "8c78dd50-768e-4765-ab51-313bc84a15ae"
      },
      "outputs": [
        {
          "output_type": "execute_result",
          "data": {
            "text/plain": [
              "0      1\n",
              "1      1\n",
              "2      1\n",
              "3      1\n",
              "4      1\n",
              "      ..\n",
              "294    0\n",
              "295    0\n",
              "296    0\n",
              "297    0\n",
              "298    0\n",
              "Name: DEATH_EVENT, Length: 299, dtype: int64"
            ]
          },
          "metadata": {},
          "execution_count": 14
        }
      ],
      "source": [
        "y"
      ]
    },
    {
      "cell_type": "code",
      "execution_count": 15,
      "id": "f96c6423",
      "metadata": {
        "execution": {
          "iopub.execute_input": "2023-03-28T16:47:13.954931Z",
          "iopub.status.busy": "2023-03-28T16:47:13.954437Z",
          "iopub.status.idle": "2023-03-28T16:47:13.964287Z",
          "shell.execute_reply": "2023-03-28T16:47:13.963190Z"
        },
        "papermill": {
          "duration": 0.026051,
          "end_time": "2023-03-28T16:47:13.966571",
          "exception": false,
          "start_time": "2023-03-28T16:47:13.940520",
          "status": "completed"
        },
        "tags": [],
        "id": "f96c6423"
      },
      "outputs": [],
      "source": [
        "#Standardization\n",
        "from sklearn.preprocessing import StandardScaler\n",
        "sc=StandardScaler()\n",
        "x=sc.fit_transform(X)"
      ]
    },
    {
      "cell_type": "code",
      "execution_count": 16,
      "id": "6df7907c",
      "metadata": {
        "execution": {
          "iopub.execute_input": "2023-03-28T16:47:13.993792Z",
          "iopub.status.busy": "2023-03-28T16:47:13.992655Z",
          "iopub.status.idle": "2023-03-28T16:47:14.001585Z",
          "shell.execute_reply": "2023-03-28T16:47:14.000372Z"
        },
        "papermill": {
          "duration": 0.025201,
          "end_time": "2023-03-28T16:47:14.004192",
          "exception": false,
          "start_time": "2023-03-28T16:47:13.978991",
          "status": "completed"
        },
        "tags": [],
        "colab": {
          "base_uri": "https://localhost:8080/"
        },
        "id": "6df7907c",
        "outputId": "f5bfb087-a0de-4e4c-efee-e8a1cbe7911a"
      },
      "outputs": [
        {
          "output_type": "execute_result",
          "data": {
            "text/plain": [
              "array([[ 1.19294523e+00, -8.71104775e-01,  1.65728387e-04, ...,\n",
              "         7.35688190e-01, -6.87681906e-01, -1.62950241e+00],\n",
              "       [-4.91279276e-01, -8.71104775e-01,  7.51463953e+00, ...,\n",
              "         7.35688190e-01, -6.87681906e-01, -1.60369074e+00],\n",
              "       [ 3.50832977e-01, -8.71104775e-01, -4.49938761e-01, ...,\n",
              "         7.35688190e-01,  1.45416070e+00, -1.59078490e+00],\n",
              "       ...,\n",
              "       [-1.33339153e+00, -8.71104775e-01,  1.52597865e+00, ...,\n",
              "        -1.35927151e+00, -6.87681906e-01,  1.90669738e+00],\n",
              "       [-1.33339153e+00, -8.71104775e-01,  1.89039811e+00, ...,\n",
              "         7.35688190e-01,  1.45416070e+00,  1.93250906e+00],\n",
              "       [-9.12335403e-01, -8.71104775e-01, -3.98321274e-01, ...,\n",
              "         7.35688190e-01,  1.45416070e+00,  1.99703825e+00]])"
            ]
          },
          "metadata": {},
          "execution_count": 16
        }
      ],
      "source": [
        "x"
      ]
    },
    {
      "cell_type": "code",
      "execution_count": 17,
      "id": "51d3c527",
      "metadata": {
        "execution": {
          "iopub.execute_input": "2023-03-28T16:47:14.030556Z",
          "iopub.status.busy": "2023-03-28T16:47:14.030155Z",
          "iopub.status.idle": "2023-03-28T16:47:14.035823Z",
          "shell.execute_reply": "2023-03-28T16:47:14.034533Z"
        },
        "papermill": {
          "duration": 0.022126,
          "end_time": "2023-03-28T16:47:14.038567",
          "exception": false,
          "start_time": "2023-03-28T16:47:14.016441",
          "status": "completed"
        },
        "tags": [],
        "id": "51d3c527"
      },
      "outputs": [],
      "source": [
        "from sklearn.model_selection import train_test_split"
      ]
    },
    {
      "cell_type": "code",
      "execution_count": 18,
      "id": "eff95638",
      "metadata": {
        "execution": {
          "iopub.execute_input": "2023-03-28T16:47:14.065456Z",
          "iopub.status.busy": "2023-03-28T16:47:14.064985Z",
          "iopub.status.idle": "2023-03-28T16:47:14.074409Z",
          "shell.execute_reply": "2023-03-28T16:47:14.073273Z"
        },
        "papermill": {
          "duration": 0.025932,
          "end_time": "2023-03-28T16:47:14.076876",
          "exception": false,
          "start_time": "2023-03-28T16:47:14.050944",
          "status": "completed"
        },
        "tags": [],
        "id": "eff95638"
      },
      "outputs": [],
      "source": [
        "xtrain,xtest,ytrain,ytest=train_test_split(x,y,test_size=0.25,random_state=1)"
      ]
    },
    {
      "cell_type": "code",
      "execution_count": 19,
      "id": "a7f7f268",
      "metadata": {
        "execution": {
          "iopub.execute_input": "2023-03-28T16:47:14.103718Z",
          "iopub.status.busy": "2023-03-28T16:47:14.102808Z",
          "iopub.status.idle": "2023-03-28T16:47:14.110014Z",
          "shell.execute_reply": "2023-03-28T16:47:14.108618Z"
        },
        "papermill": {
          "duration": 0.023427,
          "end_time": "2023-03-28T16:47:14.112625",
          "exception": false,
          "start_time": "2023-03-28T16:47:14.089198",
          "status": "completed"
        },
        "tags": [],
        "id": "a7f7f268"
      },
      "outputs": [],
      "source": [
        "# Creating Function\n",
        "def predict(model):\n",
        "    model.fit(xtrain,ytrain)\n",
        "    ypred=model.predict(xtest)\n",
        "    trainac=model.score(xtrain,ytrain)\n",
        "    testac=model.score(xtest,ytest)\n",
        "    \n",
        "    print(f\"Triaing Accuracy {trainac}\\nTesting Accuracy {testac}\")\n",
        "    "
      ]
    },
    {
      "cell_type": "code",
      "execution_count": 20,
      "id": "c7e3eb51",
      "metadata": {
        "execution": {
          "iopub.execute_input": "2023-03-28T16:47:14.139586Z",
          "iopub.status.busy": "2023-03-28T16:47:14.139122Z",
          "iopub.status.idle": "2023-03-28T16:47:14.163736Z",
          "shell.execute_reply": "2023-03-28T16:47:14.162130Z"
        },
        "papermill": {
          "duration": 0.041644,
          "end_time": "2023-03-28T16:47:14.166627",
          "exception": false,
          "start_time": "2023-03-28T16:47:14.124983",
          "status": "completed"
        },
        "tags": [],
        "colab": {
          "base_uri": "https://localhost:8080/"
        },
        "id": "c7e3eb51",
        "outputId": "aa2f507e-182d-428f-914d-ded49765e940"
      },
      "outputs": [
        {
          "output_type": "stream",
          "name": "stdout",
          "text": [
            "Triaing Accuracy 0.7723214285714286\n",
            "Testing Accuracy 0.7733333333333333\n"
          ]
        }
      ],
      "source": [
        "# KNN\n",
        "model_knn=KNeighborsClassifier(n_neighbors=6)\n",
        "model_knn.fit(xtrain,ytrain)\n",
        "ypred_knn=model_knn.predict(xtest)\n",
        "trainac_knn=model_knn.score(xtrain,ytrain)\n",
        "testac_knn=model_knn.score(xtest,ytest)\n",
        "print(f\"Triaing Accuracy {trainac_knn}\\nTesting Accuracy {testac_knn}\")  "
      ]
    },
    {
      "cell_type": "code",
      "execution_count": 21,
      "id": "c5029783",
      "metadata": {
        "execution": {
          "iopub.execute_input": "2023-03-28T16:47:14.194332Z",
          "iopub.status.busy": "2023-03-28T16:47:14.193932Z",
          "iopub.status.idle": "2023-03-28T16:47:14.493383Z",
          "shell.execute_reply": "2023-03-28T16:47:14.492121Z"
        },
        "papermill": {
          "duration": 0.317211,
          "end_time": "2023-03-28T16:47:14.496510",
          "exception": false,
          "start_time": "2023-03-28T16:47:14.179299",
          "status": "completed"
        },
        "tags": [],
        "id": "c5029783"
      },
      "outputs": [],
      "source": [
        "trainac=[]\n",
        "testac=[]\n",
        "\n",
        "for i in range(1,20):\n",
        "    knn=KNeighborsClassifier(n_neighbors=i)\n",
        "    knn.fit(xtrain,ytrain)\n",
        "    ypred=knn.predict(xtest)\n",
        "    \n",
        "    trainac.append(knn.score(xtrain,ytrain))\n",
        "    testac.append(knn.score(xtest,ytest))"
      ]
    },
    {
      "cell_type": "code",
      "execution_count": 22,
      "id": "c191fa58",
      "metadata": {
        "execution": {
          "iopub.execute_input": "2023-03-28T16:47:14.524181Z",
          "iopub.status.busy": "2023-03-28T16:47:14.523711Z",
          "iopub.status.idle": "2023-03-28T16:47:14.841238Z",
          "shell.execute_reply": "2023-03-28T16:47:14.839790Z"
        },
        "papermill": {
          "duration": 0.334758,
          "end_time": "2023-03-28T16:47:14.844034",
          "exception": false,
          "start_time": "2023-03-28T16:47:14.509276",
          "status": "completed"
        },
        "tags": [],
        "colab": {
          "base_uri": "https://localhost:8080/",
          "height": 466
        },
        "id": "c191fa58",
        "outputId": "d2752c24-4e2c-4b35-cc09-c64bb824ca13"
      },
      "outputs": [
        {
          "output_type": "execute_result",
          "data": {
            "text/plain": [
              "Text(0, 0.5, 'Accuracy')"
            ]
          },
          "metadata": {},
          "execution_count": 22
        },
        {
          "output_type": "display_data",
          "data": {
            "text/plain": [
              "<Figure size 640x480 with 1 Axes>"
            ],
            "image/png": "[encoded data removed]"
          },
          "metadata": {}
        }
      ],
      "source": [
        "sns.set_style(style='darkgrid')\n",
        "\n",
        "plt.plot(range(1,20), trainac)\n",
        "plt.plot(range(1,20),testac)\n",
        "plt.xlabel('Number of K')\n",
        "plt.ylabel('Accuracy')"
      ]
    },
    {
      "cell_type": "code",
      "execution_count": 23,
      "id": "bde27a3b",
      "metadata": {
        "execution": {
          "iopub.execute_input": "2023-03-28T16:47:14.873588Z",
          "iopub.status.busy": "2023-03-28T16:47:14.872623Z",
          "iopub.status.idle": "2023-03-28T16:47:15.080643Z",
          "shell.execute_reply": "2023-03-28T16:47:15.078938Z"
        },
        "papermill": {
          "duration": 0.225644,
          "end_time": "2023-03-28T16:47:15.083423",
          "exception": false,
          "start_time": "2023-03-28T16:47:14.857779",
          "status": "completed"
        },
        "tags": [],
        "colab": {
          "base_uri": "https://localhost:8080/"
        },
        "id": "bde27a3b",
        "outputId": "6465fc30-19c9-490a-e58a-72a4b7a31dc7"
      },
      "outputs": [
        {
          "output_type": "stream",
          "name": "stdout",
          "text": [
            "Triaing Accuracy 1.0\n",
            "Testing Accuracy 0.9066666666666666\n"
          ]
        }
      ],
      "source": [
        "# Random Forest Classifier\n",
        "\n",
        "model_rf=RandomForestClassifier()\n",
        "model_rf.fit(xtrain,ytrain)\n",
        "ypred_rf=model_rf.predict(xtest)\n",
        "trainac_rf=model_rf.score(xtrain,ytrain)\n",
        "testac_rf=model_rf.score(xtest,ytest)\n",
        "print(f\"Triaing Accuracy {trainac_rf}\\nTesting Accuracy {testac_rf}\") "
      ]
    },
    {
      "cell_type": "code",
      "execution_count": 24,
      "id": "d4dc00eb",
      "metadata": {
        "execution": {
          "iopub.execute_input": "2023-03-28T16:47:15.112284Z",
          "iopub.status.busy": "2023-03-28T16:47:15.111130Z",
          "iopub.status.idle": "2023-03-28T16:47:15.117423Z",
          "shell.execute_reply": "2023-03-28T16:47:15.116413Z"
        },
        "papermill": {
          "duration": 0.02313,
          "end_time": "2023-03-28T16:47:15.119801",
          "exception": false,
          "start_time": "2023-03-28T16:47:15.096671",
          "status": "completed"
        },
        "tags": [],
        "id": "d4dc00eb"
      },
      "outputs": [],
      "source": [
        "from sklearn.svm import SVC"
      ]
    },
    {
      "cell_type": "code",
      "execution_count": 25,
      "id": "28cdbe0f",
      "metadata": {
        "execution": {
          "iopub.execute_input": "2023-03-28T16:47:15.147949Z",
          "iopub.status.busy": "2023-03-28T16:47:15.147532Z",
          "iopub.status.idle": "2023-03-28T16:47:15.165022Z",
          "shell.execute_reply": "2023-03-28T16:47:15.163501Z"
        },
        "papermill": {
          "duration": 0.034857,
          "end_time": "2023-03-28T16:47:15.167861",
          "exception": false,
          "start_time": "2023-03-28T16:47:15.133004",
          "status": "completed"
        },
        "tags": [],
        "colab": {
          "base_uri": "https://localhost:8080/"
        },
        "id": "28cdbe0f",
        "outputId": "604dc165-d61c-408c-8866-24892c958f6c"
      },
      "outputs": [
        {
          "output_type": "stream",
          "name": "stdout",
          "text": [
            "Triaing Accuracy 0.8883928571428571\n",
            "Testing Accuracy 0.88\n"
          ]
        }
      ],
      "source": [
        "\n",
        "model_SVC_rbf=SVC(kernel='rbf')\n",
        "model_SVC_rbf.fit(xtrain,ytrain)\n",
        "ypred_SVC_rbf=model_SVC_rbf.predict(xtest)\n",
        "trainac_SVC_rbf=model_SVC_rbf.score(xtrain,ytrain)\n",
        "testac_SVC_rbf=model_SVC_rbf.score(xtest,ytest)\n",
        "print(f\"Triaing Accuracy {trainac_SVC_rbf}\\nTesting Accuracy {testac_SVC_rbf}\") "
      ]
    },
    {
      "cell_type": "code",
      "execution_count": 26,
      "id": "01615306",
      "metadata": {
        "execution": {
          "iopub.execute_input": "2023-03-28T16:47:15.196085Z",
          "iopub.status.busy": "2023-03-28T16:47:15.195626Z",
          "iopub.status.idle": "2023-03-28T16:47:15.210448Z",
          "shell.execute_reply": "2023-03-28T16:47:15.208815Z"
        },
        "papermill": {
          "duration": 0.031925,
          "end_time": "2023-03-28T16:47:15.213013",
          "exception": false,
          "start_time": "2023-03-28T16:47:15.181088",
          "status": "completed"
        },
        "tags": [],
        "colab": {
          "base_uri": "https://localhost:8080/"
        },
        "id": "01615306",
        "outputId": "d24b97f3-0e19-41ef-cc3f-ae576d2e7166"
      },
      "outputs": [
        {
          "output_type": "stream",
          "name": "stdout",
          "text": [
            "Triaing Accuracy 0.8616071428571429\n",
            "Testing Accuracy 0.7866666666666666\n"
          ]
        }
      ],
      "source": [
        "\n",
        "model_SVC_poly=SVC(kernel='poly')\n",
        "model_SVC_poly.fit(xtrain,ytrain)\n",
        "ypred_SVC_poly=model_SVC_poly.predict(xtest)\n",
        "trainac_SVC_poly=model_SVC_poly.score(xtrain,ytrain)\n",
        "testac_SVC_poly=model_SVC_poly.score(xtest,ytest)\n",
        "print(f\"Triaing Accuracy {trainac_SVC_poly}\\nTesting Accuracy {testac_SVC_poly}\") "
      ]
    },
    {
      "cell_type": "code",
      "execution_count": 27,
      "id": "4e797d24",
      "metadata": {
        "execution": {
          "iopub.execute_input": "2023-03-28T16:47:15.241693Z",
          "iopub.status.busy": "2023-03-28T16:47:15.241227Z",
          "iopub.status.idle": "2023-03-28T16:47:15.254546Z",
          "shell.execute_reply": "2023-03-28T16:47:15.252918Z"
        },
        "papermill": {
          "duration": 0.03089,
          "end_time": "2023-03-28T16:47:15.257263",
          "exception": false,
          "start_time": "2023-03-28T16:47:15.226373",
          "status": "completed"
        },
        "tags": [],
        "colab": {
          "base_uri": "https://localhost:8080/"
        },
        "id": "4e797d24",
        "outputId": "9bef4b45-7a7e-449b-f236-ac956ab16f25"
      },
      "outputs": [
        {
          "output_type": "stream",
          "name": "stdout",
          "text": [
            "Triaing Accuracy 0.8258928571428571\n",
            "Testing Accuracy 0.8666666666666667\n"
          ]
        }
      ],
      "source": [
        "\n",
        "model_SVC_linear=SVC(kernel='linear')\n",
        "model_SVC_linear.fit(xtrain,ytrain)\n",
        "ypred_SVC_linear=model_SVC_linear.predict(xtest)\n",
        "trainac_SVC_linear=model_SVC_linear.score(xtrain,ytrain)\n",
        "testac_SVC_linear=model_SVC_linear.score(xtest,ytest)\n",
        "print(f\"Triaing Accuracy {trainac_SVC_linear}\\nTesting Accuracy {testac_SVC_linear}\") "
      ]
    },
    {
      "cell_type": "code",
      "execution_count": 28,
      "id": "cd016c29",
      "metadata": {
        "execution": {
          "iopub.execute_input": "2023-03-28T16:47:15.286198Z",
          "iopub.status.busy": "2023-03-28T16:47:15.285781Z",
          "iopub.status.idle": "2023-03-28T16:47:15.301768Z",
          "shell.execute_reply": "2023-03-28T16:47:15.300418Z"
        },
        "papermill": {
          "duration": 0.033713,
          "end_time": "2023-03-28T16:47:15.304444",
          "exception": false,
          "start_time": "2023-03-28T16:47:15.270731",
          "status": "completed"
        },
        "tags": [],
        "colab": {
          "base_uri": "https://localhost:8080/"
        },
        "id": "cd016c29",
        "outputId": "df03b3d5-0e8b-4d34-cba1-74c90b608de2"
      },
      "outputs": [
        {
          "output_type": "stream",
          "name": "stdout",
          "text": [
            "Triaing Accuracy 0.78125\n",
            "Testing Accuracy 0.8266666666666667\n"
          ]
        }
      ],
      "source": [
        "\n",
        "        \n",
        "model_SVC_sigmoid=SVC(kernel='sigmoid')\n",
        "model_SVC_sigmoid.fit(xtrain,ytrain)\n",
        "ypred_SVC_sigmoid=model_SVC_sigmoid.predict(xtest)\n",
        "trainac_SVC_sigmoid=model_SVC_sigmoid.score(xtrain,ytrain)\n",
        "testac_SVC_sigmoid=model_SVC_sigmoid.score(xtest,ytest)\n",
        "print(f\"Triaing Accuracy {trainac_SVC_sigmoid}\\nTesting Accuracy {testac_SVC_sigmoid}\") "
      ]
    },
    {
      "cell_type": "code",
      "execution_count": 29,
      "id": "f91a20e9",
      "metadata": {
        "execution": {
          "iopub.execute_input": "2023-03-28T16:47:15.333732Z",
          "iopub.status.busy": "2023-03-28T16:47:15.333297Z",
          "iopub.status.idle": "2023-03-28T16:47:15.338863Z",
          "shell.execute_reply": "2023-03-28T16:47:15.337806Z"
        },
        "papermill": {
          "duration": 0.02326,
          "end_time": "2023-03-28T16:47:15.341430",
          "exception": false,
          "start_time": "2023-03-28T16:47:15.318170",
          "status": "completed"
        },
        "tags": [],
        "id": "f91a20e9"
      },
      "outputs": [],
      "source": [
        "from sklearn.linear_model import LogisticRegression"
      ]
    },
    {
      "cell_type": "code",
      "execution_count": 30,
      "id": "4190fcd1",
      "metadata": {
        "execution": {
          "iopub.execute_input": "2023-03-28T16:47:15.371203Z",
          "iopub.status.busy": "2023-03-28T16:47:15.370096Z",
          "iopub.status.idle": "2023-03-28T16:47:15.387005Z",
          "shell.execute_reply": "2023-03-28T16:47:15.385591Z"
        },
        "papermill": {
          "duration": 0.035043,
          "end_time": "2023-03-28T16:47:15.389971",
          "exception": false,
          "start_time": "2023-03-28T16:47:15.354928",
          "status": "completed"
        },
        "tags": [],
        "colab": {
          "base_uri": "https://localhost:8080/"
        },
        "id": "4190fcd1",
        "outputId": "9e6b6fe0-8bdb-4cc6-9b7b-32a966e8353c"
      },
      "outputs": [
        {
          "output_type": "stream",
          "name": "stdout",
          "text": [
            "Triaing Accuracy 0.78125\n",
            "Testing Accuracy 0.8266666666666667\n"
          ]
        }
      ],
      "source": [
        "\n",
        "model_LR=LogisticRegression()\n",
        "model_LR.fit(xtrain,ytrain)\n",
        "ypred_LR=model_SVC_sigmoid.predict(xtest)\n",
        "trainac_LR=model_SVC_sigmoid.score(xtrain,ytrain)\n",
        "testac_LR=model_SVC_sigmoid.score(xtest,ytest)\n",
        "print(f\"Triaing Accuracy {trainac_LR}\\nTesting Accuracy {testac_LR}\") "
      ]
    },
    {
      "cell_type": "code",
      "execution_count": 31,
      "id": "55680332",
      "metadata": {
        "execution": {
          "iopub.execute_input": "2023-03-28T16:47:15.419369Z",
          "iopub.status.busy": "2023-03-28T16:47:15.418910Z",
          "iopub.status.idle": "2023-03-28T16:47:24.135242Z",
          "shell.execute_reply": "2023-03-28T16:47:24.133832Z"
        },
        "papermill": {
          "duration": 8.735059,
          "end_time": "2023-03-28T16:47:24.138576",
          "exception": false,
          "start_time": "2023-03-28T16:47:15.403517",
          "status": "completed"
        },
        "tags": [],
        "id": "55680332"
      },
      "outputs": [],
      "source": [
        "from keras.models import Sequential\n",
        "from keras.layers import Dense \n",
        "from keras.optimizers import Adam\n",
        "from keras.callbacks import EarlyStopping"
      ]
    },
    {
      "cell_type": "markdown",
      "id": "c4045e88",
      "metadata": {
        "papermill": {
          "duration": 0.013542,
          "end_time": "2023-03-28T16:47:24.167492",
          "exception": false,
          "start_time": "2023-03-28T16:47:24.153950",
          "status": "completed"
        },
        "tags": [],
        "id": "c4045e88"
      },
      "source": [
        "model=Sequential()\n",
        "model.add(Dense(18,imput_dim=8,activation='Sigmoid'))\n",
        "model.add(Dense(8,activation='Sigmoid'))\n",
        "model.add(Dense(1,activation='Sigmoid'))"
      ]
    },
    {
      "cell_type": "code",
      "execution_count": 32,
      "id": "33658d3e",
      "metadata": {
        "execution": {
          "iopub.execute_input": "2023-03-28T16:47:24.198018Z",
          "iopub.status.busy": "2023-03-28T16:47:24.197068Z",
          "iopub.status.idle": "2023-03-28T16:47:24.324242Z",
          "shell.execute_reply": "2023-03-28T16:47:24.323128Z"
        },
        "papermill": {
          "duration": 0.145706,
          "end_time": "2023-03-28T16:47:24.327111",
          "exception": false,
          "start_time": "2023-03-28T16:47:24.181405",
          "status": "completed"
        },
        "tags": [],
        "id": "33658d3e"
      },
      "outputs": [],
      "source": [
        "model=Sequential()\n",
        "model.add(Dense(18,activation='relu'))\n",
        "model.add(Dense(8,activation='relu'))\n",
        "model.add(Dense(1,activation='sigmoid'))"
      ]
    },
    {
      "cell_type": "code",
      "execution_count": 33,
      "id": "e7399d9e",
      "metadata": {
        "execution": {
          "iopub.execute_input": "2023-03-28T16:47:24.356514Z",
          "iopub.status.busy": "2023-03-28T16:47:24.356098Z",
          "iopub.status.idle": "2023-03-28T16:47:24.391678Z",
          "shell.execute_reply": "2023-03-28T16:47:24.390151Z"
        },
        "papermill": {
          "duration": 0.053978,
          "end_time": "2023-03-28T16:47:24.394810",
          "exception": false,
          "start_time": "2023-03-28T16:47:24.340832",
          "status": "completed"
        },
        "tags": [],
        "id": "e7399d9e"
      },
      "outputs": [],
      "source": [
        "model.compile(loss='binary_crossentropy',optimizer='adam',metrics=['accuracy'])"
      ]
    },
    {
      "cell_type": "code",
      "execution_count": 34,
      "id": "ecb47c65",
      "metadata": {
        "execution": {
          "iopub.execute_input": "2023-03-28T16:47:24.426248Z",
          "iopub.status.busy": "2023-03-28T16:47:24.425519Z",
          "iopub.status.idle": "2023-03-28T16:47:49.578387Z",
          "shell.execute_reply": "2023-03-28T16:47:49.576796Z"
        },
        "papermill": {
          "duration": 25.172075,
          "end_time": "2023-03-28T16:47:49.581301",
          "exception": false,
          "start_time": "2023-03-28T16:47:24.409226",
          "status": "completed"
        },
        "tags": [],
        "colab": {
          "base_uri": "https://localhost:8080/"
        },
        "id": "ecb47c65",
        "outputId": "f4157c9e-a0f3-4b47-845f-b14f79a04974"
      },
      "outputs": [
        {
          "output_type": "stream",
          "name": "stdout",
          "text": [
            "Epoch 1/300\n",
            "16/16 [==============================] - 1s 19ms/step - loss: 0.7014 - accuracy: 0.5321 - val_loss: 0.6862 - val_accuracy: 0.6176\n",
            "Epoch 2/300\n",
            "16/16 [==============================] - 0s 4ms/step - loss: 0.6729 - accuracy: 0.5833 - val_loss: 0.6636 - val_accuracy: 0.6618\n",
            "Epoch 3/300\n",
            "16/16 [==============================] - 0s 4ms/step - loss: 0.6489 - accuracy: 0.6603 - val_loss: 0.6463 - val_accuracy: 0.7059\n",
            "Epoch 4/300\n",
            "16/16 [==============================] - 0s 4ms/step - loss: 0.6306 - accuracy: 0.6987 - val_loss: 0.6282 - val_accuracy: 0.6912\n",
            "Epoch 5/300\n",
            "16/16 [==============================] - 0s 4ms/step - loss: 0.6129 - accuracy: 0.6923 - val_loss: 0.6113 - val_accuracy: 0.7500\n",
            "Epoch 6/300\n",
            "16/16 [==============================] - 0s 5ms/step - loss: 0.5935 - accuracy: 0.6987 - val_loss: 0.5967 - val_accuracy: 0.7647\n",
            "Epoch 7/300\n",
            "16/16 [==============================] - 0s 4ms/step - loss: 0.5764 - accuracy: 0.7308 - val_loss: 0.5781 - val_accuracy: 0.7647\n",
            "Epoch 8/300\n",
            "16/16 [==============================] - 0s 5ms/step - loss: 0.5575 - accuracy: 0.7308 - val_loss: 0.5629 - val_accuracy: 0.7647\n",
            "Epoch 9/300\n",
            "16/16 [==============================] - 0s 4ms/step - loss: 0.5388 - accuracy: 0.7372 - val_loss: 0.5477 - val_accuracy: 0.7647\n",
            "Epoch 10/300\n",
            "16/16 [==============================] - 0s 5ms/step - loss: 0.5217 - accuracy: 0.7500 - val_loss: 0.5342 - val_accuracy: 0.7794\n",
            "Epoch 11/300\n",
            "16/16 [==============================] - 0s 5ms/step - loss: 0.5054 - accuracy: 0.7564 - val_loss: 0.5212 - val_accuracy: 0.7794\n",
            "Epoch 12/300\n",
            "16/16 [==============================] - 0s 4ms/step - loss: 0.4900 - accuracy: 0.7628 - val_loss: 0.5126 - val_accuracy: 0.7941\n",
            "Epoch 13/300\n",
            "16/16 [==============================] - 0s 5ms/step - loss: 0.4760 - accuracy: 0.7692 - val_loss: 0.5020 - val_accuracy: 0.7941\n",
            "Epoch 14/300\n",
            "16/16 [==============================] - 0s 5ms/step - loss: 0.4639 - accuracy: 0.7692 - val_loss: 0.4962 - val_accuracy: 0.7941\n",
            "Epoch 15/300\n",
            "16/16 [==============================] - 0s 4ms/step - loss: 0.4531 - accuracy: 0.7756 - val_loss: 0.4855 - val_accuracy: 0.8235\n",
            "Epoch 16/300\n",
            "16/16 [==============================] - 0s 4ms/step - loss: 0.4416 - accuracy: 0.7756 - val_loss: 0.4812 - val_accuracy: 0.8235\n",
            "Epoch 17/300\n",
            "16/16 [==============================] - 0s 5ms/step - loss: 0.4315 - accuracy: 0.7756 - val_loss: 0.4733 - val_accuracy: 0.8088\n",
            "Epoch 18/300\n",
            "16/16 [==============================] - 0s 6ms/step - loss: 0.4224 - accuracy: 0.7821 - val_loss: 0.4683 - val_accuracy: 0.8088\n",
            "Epoch 19/300\n",
            "16/16 [==============================] - 0s 4ms/step - loss: 0.4140 - accuracy: 0.7821 - val_loss: 0.4649 - val_accuracy: 0.8088\n",
            "Epoch 20/300\n",
            "16/16 [==============================] - 0s 4ms/step - loss: 0.4056 - accuracy: 0.7885 - val_loss: 0.4595 - val_accuracy: 0.7941\n",
            "Epoch 21/300\n",
            "16/16 [==============================] - 0s 5ms/step - loss: 0.3974 - accuracy: 0.7885 - val_loss: 0.4524 - val_accuracy: 0.7794\n",
            "Epoch 22/300\n",
            "16/16 [==============================] - 0s 5ms/step - loss: 0.3898 - accuracy: 0.7821 - val_loss: 0.4502 - val_accuracy: 0.7941\n",
            "Epoch 23/300\n",
            "16/16 [==============================] - 0s 5ms/step - loss: 0.3831 - accuracy: 0.7949 - val_loss: 0.4493 - val_accuracy: 0.7941\n",
            "Epoch 24/300\n",
            "16/16 [==============================] - 0s 6ms/step - loss: 0.3762 - accuracy: 0.8013 - val_loss: 0.4466 - val_accuracy: 0.7647\n",
            "Epoch 25/300\n",
            "16/16 [==============================] - 0s 10ms/step - loss: 0.3712 - accuracy: 0.8077 - val_loss: 0.4477 - val_accuracy: 0.7647\n",
            "Epoch 26/300\n",
            "16/16 [==============================] - 0s 7ms/step - loss: 0.3662 - accuracy: 0.8141 - val_loss: 0.4468 - val_accuracy: 0.7647\n",
            "Epoch 27/300\n",
            "16/16 [==============================] - 0s 6ms/step - loss: 0.3582 - accuracy: 0.8077 - val_loss: 0.4449 - val_accuracy: 0.7647\n",
            "Epoch 28/300\n",
            "16/16 [==============================] - 0s 6ms/step - loss: 0.3531 - accuracy: 0.8141 - val_loss: 0.4478 - val_accuracy: 0.7647\n",
            "Epoch 29/300\n",
            "16/16 [==============================] - 0s 6ms/step - loss: 0.3483 - accuracy: 0.8269 - val_loss: 0.4465 - val_accuracy: 0.7794\n",
            "Epoch 30/300\n",
            "16/16 [==============================] - 0s 6ms/step - loss: 0.3440 - accuracy: 0.8269 - val_loss: 0.4462 - val_accuracy: 0.7500\n",
            "Epoch 31/300\n",
            "16/16 [==============================] - 0s 6ms/step - loss: 0.3394 - accuracy: 0.8269 - val_loss: 0.4465 - val_accuracy: 0.7353\n",
            "Epoch 32/300\n",
            "16/16 [==============================] - 0s 6ms/step - loss: 0.3353 - accuracy: 0.8269 - val_loss: 0.4490 - val_accuracy: 0.7353\n",
            "Epoch 33/300\n",
            "16/16 [==============================] - 0s 7ms/step - loss: 0.3311 - accuracy: 0.8333 - val_loss: 0.4474 - val_accuracy: 0.7500\n",
            "Epoch 34/300\n",
            "16/16 [==============================] - 0s 8ms/step - loss: 0.3280 - accuracy: 0.8333 - val_loss: 0.4500 - val_accuracy: 0.7353\n",
            "Epoch 35/300\n",
            "16/16 [==============================] - 0s 6ms/step - loss: 0.3245 - accuracy: 0.8333 - val_loss: 0.4479 - val_accuracy: 0.7353\n",
            "Epoch 36/300\n",
            "16/16 [==============================] - 0s 7ms/step - loss: 0.3204 - accuracy: 0.8397 - val_loss: 0.4506 - val_accuracy: 0.7353\n",
            "Epoch 37/300\n",
            "16/16 [==============================] - 0s 7ms/step - loss: 0.3172 - accuracy: 0.8397 - val_loss: 0.4527 - val_accuracy: 0.7353\n",
            "Epoch 38/300\n",
            "16/16 [==============================] - 0s 7ms/step - loss: 0.3132 - accuracy: 0.8526 - val_loss: 0.4543 - val_accuracy: 0.7353\n",
            "Epoch 39/300\n",
            "16/16 [==============================] - 0s 7ms/step - loss: 0.3103 - accuracy: 0.8526 - val_loss: 0.4554 - val_accuracy: 0.7206\n",
            "Epoch 40/300\n",
            "16/16 [==============================] - 0s 6ms/step - loss: 0.3072 - accuracy: 0.8526 - val_loss: 0.4559 - val_accuracy: 0.7206\n",
            "Epoch 41/300\n",
            "16/16 [==============================] - 0s 6ms/step - loss: 0.3030 - accuracy: 0.8590 - val_loss: 0.4611 - val_accuracy: 0.7059\n",
            "Epoch 42/300\n",
            "16/16 [==============================] - 0s 6ms/step - loss: 0.2998 - accuracy: 0.8590 - val_loss: 0.4599 - val_accuracy: 0.7059\n",
            "Epoch 43/300\n",
            "16/16 [==============================] - 0s 7ms/step - loss: 0.2977 - accuracy: 0.8526 - val_loss: 0.4648 - val_accuracy: 0.7206\n",
            "Epoch 44/300\n",
            "16/16 [==============================] - 0s 8ms/step - loss: 0.2946 - accuracy: 0.8590 - val_loss: 0.4618 - val_accuracy: 0.7059\n",
            "Epoch 45/300\n",
            "16/16 [==============================] - 0s 6ms/step - loss: 0.2906 - accuracy: 0.8654 - val_loss: 0.4651 - val_accuracy: 0.6912\n",
            "Epoch 46/300\n",
            "16/16 [==============================] - 0s 7ms/step - loss: 0.2871 - accuracy: 0.8718 - val_loss: 0.4695 - val_accuracy: 0.7059\n",
            "Epoch 47/300\n",
            "16/16 [==============================] - 0s 7ms/step - loss: 0.2839 - accuracy: 0.8718 - val_loss: 0.4707 - val_accuracy: 0.7059\n",
            "Epoch 48/300\n",
            "16/16 [==============================] - 0s 7ms/step - loss: 0.2816 - accuracy: 0.8718 - val_loss: 0.4714 - val_accuracy: 0.7059\n",
            "Epoch 49/300\n",
            "16/16 [==============================] - 0s 4ms/step - loss: 0.2783 - accuracy: 0.8782 - val_loss: 0.4750 - val_accuracy: 0.7059\n",
            "Epoch 50/300\n",
            "16/16 [==============================] - 0s 5ms/step - loss: 0.2756 - accuracy: 0.8782 - val_loss: 0.4764 - val_accuracy: 0.7059\n",
            "Epoch 51/300\n",
            "16/16 [==============================] - 0s 5ms/step - loss: 0.2731 - accuracy: 0.8782 - val_loss: 0.4739 - val_accuracy: 0.7059\n",
            "Epoch 52/300\n",
            "16/16 [==============================] - 0s 5ms/step - loss: 0.2705 - accuracy: 0.8846 - val_loss: 0.4797 - val_accuracy: 0.7059\n",
            "Epoch 53/300\n",
            "16/16 [==============================] - 0s 4ms/step - loss: 0.2670 - accuracy: 0.8782 - val_loss: 0.4830 - val_accuracy: 0.7059\n",
            "Epoch 54/300\n",
            "16/16 [==============================] - 0s 4ms/step - loss: 0.2643 - accuracy: 0.8846 - val_loss: 0.4827 - val_accuracy: 0.7059\n",
            "Epoch 55/300\n",
            "16/16 [==============================] - 0s 5ms/step - loss: 0.2616 - accuracy: 0.8846 - val_loss: 0.4868 - val_accuracy: 0.7059\n",
            "Epoch 56/300\n",
            "16/16 [==============================] - 0s 4ms/step - loss: 0.2592 - accuracy: 0.8846 - val_loss: 0.4929 - val_accuracy: 0.7059\n",
            "Epoch 57/300\n",
            "16/16 [==============================] - 0s 5ms/step - loss: 0.2565 - accuracy: 0.8846 - val_loss: 0.4941 - val_accuracy: 0.7059\n",
            "Epoch 58/300\n",
            "16/16 [==============================] - 0s 5ms/step - loss: 0.2536 - accuracy: 0.8846 - val_loss: 0.4970 - val_accuracy: 0.7059\n",
            "Epoch 59/300\n",
            "16/16 [==============================] - 0s 4ms/step - loss: 0.2512 - accuracy: 0.8910 - val_loss: 0.4978 - val_accuracy: 0.7059\n",
            "Epoch 60/300\n",
            "16/16 [==============================] - 0s 4ms/step - loss: 0.2482 - accuracy: 0.8910 - val_loss: 0.5038 - val_accuracy: 0.7059\n",
            "Epoch 61/300\n",
            "16/16 [==============================] - 0s 4ms/step - loss: 0.2456 - accuracy: 0.8910 - val_loss: 0.5060 - val_accuracy: 0.7059\n",
            "Epoch 62/300\n",
            "16/16 [==============================] - 0s 4ms/step - loss: 0.2435 - accuracy: 0.8910 - val_loss: 0.5148 - val_accuracy: 0.7059\n",
            "Epoch 63/300\n",
            "16/16 [==============================] - 0s 6ms/step - loss: 0.2402 - accuracy: 0.8910 - val_loss: 0.5157 - val_accuracy: 0.7059\n",
            "Epoch 64/300\n",
            "16/16 [==============================] - 0s 5ms/step - loss: 0.2375 - accuracy: 0.8910 - val_loss: 0.5196 - val_accuracy: 0.7059\n",
            "Epoch 65/300\n",
            "16/16 [==============================] - 0s 5ms/step - loss: 0.2352 - accuracy: 0.8910 - val_loss: 0.5206 - val_accuracy: 0.7059\n",
            "Epoch 66/300\n",
            "16/16 [==============================] - 0s 5ms/step - loss: 0.2324 - accuracy: 0.8910 - val_loss: 0.5266 - val_accuracy: 0.6912\n",
            "Epoch 67/300\n",
            "16/16 [==============================] - 0s 5ms/step - loss: 0.2314 - accuracy: 0.8974 - val_loss: 0.5295 - val_accuracy: 0.6912\n",
            "Epoch 68/300\n",
            "16/16 [==============================] - 0s 5ms/step - loss: 0.2279 - accuracy: 0.8974 - val_loss: 0.5299 - val_accuracy: 0.7059\n",
            "Epoch 69/300\n",
            "16/16 [==============================] - 0s 4ms/step - loss: 0.2248 - accuracy: 0.8974 - val_loss: 0.5383 - val_accuracy: 0.6912\n",
            "Epoch 70/300\n",
            "16/16 [==============================] - 0s 5ms/step - loss: 0.2220 - accuracy: 0.8974 - val_loss: 0.5437 - val_accuracy: 0.6912\n",
            "Epoch 71/300\n",
            "16/16 [==============================] - 0s 4ms/step - loss: 0.2197 - accuracy: 0.8974 - val_loss: 0.5464 - val_accuracy: 0.6912\n",
            "Epoch 72/300\n",
            "16/16 [==============================] - 0s 5ms/step - loss: 0.2183 - accuracy: 0.9038 - val_loss: 0.5440 - val_accuracy: 0.6912\n",
            "Epoch 73/300\n",
            "16/16 [==============================] - 0s 5ms/step - loss: 0.2155 - accuracy: 0.9038 - val_loss: 0.5515 - val_accuracy: 0.6912\n",
            "Epoch 74/300\n",
            "16/16 [==============================] - 0s 4ms/step - loss: 0.2126 - accuracy: 0.9038 - val_loss: 0.5550 - val_accuracy: 0.6912\n",
            "Epoch 75/300\n",
            "16/16 [==============================] - 0s 6ms/step - loss: 0.2103 - accuracy: 0.9103 - val_loss: 0.5621 - val_accuracy: 0.6912\n",
            "Epoch 76/300\n",
            "16/16 [==============================] - 0s 4ms/step - loss: 0.2082 - accuracy: 0.9038 - val_loss: 0.5666 - val_accuracy: 0.6912\n",
            "Epoch 77/300\n",
            "16/16 [==============================] - 0s 4ms/step - loss: 0.2059 - accuracy: 0.9038 - val_loss: 0.5660 - val_accuracy: 0.6912\n",
            "Epoch 78/300\n",
            "16/16 [==============================] - 0s 4ms/step - loss: 0.2028 - accuracy: 0.9103 - val_loss: 0.5768 - val_accuracy: 0.6912\n",
            "Epoch 79/300\n",
            "16/16 [==============================] - 0s 5ms/step - loss: 0.2004 - accuracy: 0.9103 - val_loss: 0.5775 - val_accuracy: 0.6912\n",
            "Epoch 80/300\n",
            "16/16 [==============================] - 0s 5ms/step - loss: 0.1984 - accuracy: 0.9103 - val_loss: 0.5798 - val_accuracy: 0.6912\n",
            "Epoch 81/300\n",
            "16/16 [==============================] - 0s 5ms/step - loss: 0.1959 - accuracy: 0.9103 - val_loss: 0.5847 - val_accuracy: 0.6765\n",
            "Epoch 82/300\n",
            "16/16 [==============================] - 0s 5ms/step - loss: 0.1931 - accuracy: 0.9103 - val_loss: 0.5882 - val_accuracy: 0.6765\n",
            "Epoch 83/300\n",
            "16/16 [==============================] - 0s 5ms/step - loss: 0.1919 - accuracy: 0.9038 - val_loss: 0.5888 - val_accuracy: 0.6765\n",
            "Epoch 84/300\n",
            "16/16 [==============================] - 0s 4ms/step - loss: 0.1885 - accuracy: 0.9038 - val_loss: 0.5966 - val_accuracy: 0.6765\n",
            "Epoch 85/300\n",
            "16/16 [==============================] - 0s 5ms/step - loss: 0.1872 - accuracy: 0.9038 - val_loss: 0.5969 - val_accuracy: 0.6912\n",
            "Epoch 86/300\n",
            "16/16 [==============================] - 0s 5ms/step - loss: 0.1850 - accuracy: 0.9038 - val_loss: 0.5990 - val_accuracy: 0.6765\n",
            "Epoch 87/300\n",
            "16/16 [==============================] - 0s 6ms/step - loss: 0.1823 - accuracy: 0.9103 - val_loss: 0.6046 - val_accuracy: 0.6765\n",
            "Epoch 88/300\n",
            "16/16 [==============================] - 0s 5ms/step - loss: 0.1799 - accuracy: 0.9231 - val_loss: 0.6134 - val_accuracy: 0.6912\n",
            "Epoch 89/300\n",
            "16/16 [==============================] - 0s 4ms/step - loss: 0.1794 - accuracy: 0.9038 - val_loss: 0.6162 - val_accuracy: 0.6912\n",
            "Epoch 90/300\n",
            "16/16 [==============================] - 0s 5ms/step - loss: 0.1760 - accuracy: 0.9103 - val_loss: 0.6244 - val_accuracy: 0.6912\n",
            "Epoch 91/300\n",
            "16/16 [==============================] - 0s 5ms/step - loss: 0.1740 - accuracy: 0.9167 - val_loss: 0.6267 - val_accuracy: 0.6912\n",
            "Epoch 92/300\n",
            "16/16 [==============================] - 0s 6ms/step - loss: 0.1723 - accuracy: 0.9295 - val_loss: 0.6286 - val_accuracy: 0.6912\n",
            "Epoch 93/300\n",
            "16/16 [==============================] - 0s 5ms/step - loss: 0.1698 - accuracy: 0.9231 - val_loss: 0.6373 - val_accuracy: 0.6912\n",
            "Epoch 94/300\n",
            "16/16 [==============================] - 0s 4ms/step - loss: 0.1676 - accuracy: 0.9231 - val_loss: 0.6401 - val_accuracy: 0.6912\n",
            "Epoch 95/300\n",
            "16/16 [==============================] - 0s 4ms/step - loss: 0.1652 - accuracy: 0.9295 - val_loss: 0.6507 - val_accuracy: 0.6912\n",
            "Epoch 96/300\n",
            "16/16 [==============================] - 0s 4ms/step - loss: 0.1638 - accuracy: 0.9295 - val_loss: 0.6527 - val_accuracy: 0.6912\n",
            "Epoch 97/300\n",
            "16/16 [==============================] - 0s 6ms/step - loss: 0.1615 - accuracy: 0.9295 - val_loss: 0.6571 - val_accuracy: 0.6912\n",
            "Epoch 98/300\n",
            "16/16 [==============================] - 0s 5ms/step - loss: 0.1596 - accuracy: 0.9359 - val_loss: 0.6674 - val_accuracy: 0.6912\n",
            "Epoch 99/300\n",
            "16/16 [==============================] - 0s 5ms/step - loss: 0.1585 - accuracy: 0.9359 - val_loss: 0.6644 - val_accuracy: 0.6912\n",
            "Epoch 100/300\n",
            "16/16 [==============================] - 0s 4ms/step - loss: 0.1555 - accuracy: 0.9423 - val_loss: 0.6759 - val_accuracy: 0.6912\n",
            "Epoch 101/300\n",
            "16/16 [==============================] - 0s 5ms/step - loss: 0.1533 - accuracy: 0.9359 - val_loss: 0.6778 - val_accuracy: 0.6912\n",
            "Epoch 102/300\n",
            "16/16 [==============================] - 0s 5ms/step - loss: 0.1518 - accuracy: 0.9359 - val_loss: 0.6844 - val_accuracy: 0.6912\n",
            "Epoch 103/300\n",
            "16/16 [==============================] - 0s 4ms/step - loss: 0.1482 - accuracy: 0.9423 - val_loss: 0.6865 - val_accuracy: 0.6912\n",
            "Epoch 104/300\n",
            "16/16 [==============================] - 0s 5ms/step - loss: 0.1472 - accuracy: 0.9359 - val_loss: 0.6872 - val_accuracy: 0.6912\n",
            "Epoch 105/300\n",
            "16/16 [==============================] - 0s 5ms/step - loss: 0.1457 - accuracy: 0.9423 - val_loss: 0.6979 - val_accuracy: 0.6912\n",
            "Epoch 106/300\n",
            "16/16 [==============================] - 0s 5ms/step - loss: 0.1425 - accuracy: 0.9615 - val_loss: 0.7070 - val_accuracy: 0.6912\n",
            "Epoch 107/300\n",
            "16/16 [==============================] - 0s 5ms/step - loss: 0.1408 - accuracy: 0.9615 - val_loss: 0.7095 - val_accuracy: 0.6912\n",
            "Epoch 108/300\n",
            "16/16 [==============================] - 0s 4ms/step - loss: 0.1386 - accuracy: 0.9615 - val_loss: 0.7163 - val_accuracy: 0.6912\n",
            "Epoch 109/300\n",
            "16/16 [==============================] - 0s 4ms/step - loss: 0.1361 - accuracy: 0.9679 - val_loss: 0.7123 - val_accuracy: 0.6912\n",
            "Epoch 110/300\n",
            "16/16 [==============================] - 0s 5ms/step - loss: 0.1353 - accuracy: 0.9679 - val_loss: 0.7257 - val_accuracy: 0.6912\n",
            "Epoch 111/300\n",
            "16/16 [==============================] - 0s 5ms/step - loss: 0.1327 - accuracy: 0.9679 - val_loss: 0.7261 - val_accuracy: 0.6912\n",
            "Epoch 112/300\n",
            "16/16 [==============================] - 0s 5ms/step - loss: 0.1299 - accuracy: 0.9744 - val_loss: 0.7334 - val_accuracy: 0.6912\n",
            "Epoch 113/300\n",
            "16/16 [==============================] - 0s 5ms/step - loss: 0.1288 - accuracy: 0.9679 - val_loss: 0.7372 - val_accuracy: 0.6912\n",
            "Epoch 114/300\n",
            "16/16 [==============================] - 0s 4ms/step - loss: 0.1273 - accuracy: 0.9808 - val_loss: 0.7427 - val_accuracy: 0.6912\n",
            "Epoch 115/300\n",
            "16/16 [==============================] - 0s 5ms/step - loss: 0.1253 - accuracy: 0.9808 - val_loss: 0.7488 - val_accuracy: 0.6912\n",
            "Epoch 116/300\n",
            "16/16 [==============================] - 0s 5ms/step - loss: 0.1228 - accuracy: 0.9744 - val_loss: 0.7611 - val_accuracy: 0.6912\n",
            "Epoch 117/300\n",
            "16/16 [==============================] - 0s 6ms/step - loss: 0.1207 - accuracy: 0.9808 - val_loss: 0.7693 - val_accuracy: 0.6912\n",
            "Epoch 118/300\n",
            "16/16 [==============================] - 0s 5ms/step - loss: 0.1197 - accuracy: 0.9744 - val_loss: 0.7757 - val_accuracy: 0.6912\n",
            "Epoch 119/300\n",
            "16/16 [==============================] - 0s 5ms/step - loss: 0.1188 - accuracy: 0.9744 - val_loss: 0.7757 - val_accuracy: 0.6912\n",
            "Epoch 120/300\n",
            "16/16 [==============================] - 0s 5ms/step - loss: 0.1160 - accuracy: 0.9808 - val_loss: 0.7775 - val_accuracy: 0.6912\n",
            "Epoch 121/300\n",
            "16/16 [==============================] - 0s 5ms/step - loss: 0.1142 - accuracy: 0.9808 - val_loss: 0.7848 - val_accuracy: 0.6912\n",
            "Epoch 122/300\n",
            "16/16 [==============================] - 0s 5ms/step - loss: 0.1125 - accuracy: 0.9808 - val_loss: 0.8029 - val_accuracy: 0.6912\n",
            "Epoch 123/300\n",
            "16/16 [==============================] - 0s 5ms/step - loss: 0.1101 - accuracy: 0.9872 - val_loss: 0.7961 - val_accuracy: 0.6912\n",
            "Epoch 124/300\n",
            "16/16 [==============================] - 0s 4ms/step - loss: 0.1091 - accuracy: 0.9808 - val_loss: 0.8054 - val_accuracy: 0.6912\n",
            "Epoch 125/300\n",
            "16/16 [==============================] - 0s 5ms/step - loss: 0.1082 - accuracy: 0.9808 - val_loss: 0.8025 - val_accuracy: 0.6912\n",
            "Epoch 126/300\n",
            "16/16 [==============================] - 0s 4ms/step - loss: 0.1058 - accuracy: 0.9808 - val_loss: 0.8195 - val_accuracy: 0.6912\n",
            "Epoch 127/300\n",
            "16/16 [==============================] - 0s 5ms/step - loss: 0.1037 - accuracy: 0.9872 - val_loss: 0.8223 - val_accuracy: 0.6912\n",
            "Epoch 128/300\n",
            "16/16 [==============================] - 0s 6ms/step - loss: 0.1027 - accuracy: 0.9808 - val_loss: 0.8358 - val_accuracy: 0.7059\n",
            "Epoch 129/300\n",
            "16/16 [==============================] - 0s 5ms/step - loss: 0.1006 - accuracy: 0.9808 - val_loss: 0.8383 - val_accuracy: 0.7059\n",
            "Epoch 130/300\n",
            "16/16 [==============================] - 0s 5ms/step - loss: 0.0993 - accuracy: 0.9872 - val_loss: 0.8462 - val_accuracy: 0.7059\n",
            "Epoch 131/300\n",
            "16/16 [==============================] - 0s 5ms/step - loss: 0.0977 - accuracy: 0.9872 - val_loss: 0.8528 - val_accuracy: 0.7059\n",
            "Epoch 132/300\n",
            "16/16 [==============================] - 0s 4ms/step - loss: 0.0963 - accuracy: 0.9872 - val_loss: 0.8492 - val_accuracy: 0.7059\n",
            "Epoch 133/300\n",
            "16/16 [==============================] - 0s 6ms/step - loss: 0.0946 - accuracy: 0.9808 - val_loss: 0.8596 - val_accuracy: 0.7059\n",
            "Epoch 134/300\n",
            "16/16 [==============================] - 0s 6ms/step - loss: 0.0933 - accuracy: 0.9872 - val_loss: 0.8696 - val_accuracy: 0.7059\n",
            "Epoch 135/300\n",
            "16/16 [==============================] - 0s 5ms/step - loss: 0.0920 - accuracy: 0.9808 - val_loss: 0.8755 - val_accuracy: 0.7059\n",
            "Epoch 136/300\n",
            "16/16 [==============================] - 0s 5ms/step - loss: 0.0908 - accuracy: 0.9872 - val_loss: 0.8820 - val_accuracy: 0.7059\n",
            "Epoch 137/300\n",
            "16/16 [==============================] - 0s 5ms/step - loss: 0.0896 - accuracy: 0.9872 - val_loss: 0.8780 - val_accuracy: 0.7059\n",
            "Epoch 138/300\n",
            "16/16 [==============================] - 0s 5ms/step - loss: 0.0882 - accuracy: 0.9808 - val_loss: 0.8877 - val_accuracy: 0.7059\n",
            "Epoch 139/300\n",
            "16/16 [==============================] - 0s 6ms/step - loss: 0.0859 - accuracy: 0.9808 - val_loss: 0.9017 - val_accuracy: 0.7059\n",
            "Epoch 140/300\n",
            "16/16 [==============================] - 0s 5ms/step - loss: 0.0854 - accuracy: 0.9872 - val_loss: 0.9090 - val_accuracy: 0.7059\n",
            "Epoch 141/300\n",
            "16/16 [==============================] - 0s 5ms/step - loss: 0.0833 - accuracy: 0.9936 - val_loss: 0.9154 - val_accuracy: 0.7059\n",
            "Epoch 142/300\n",
            "16/16 [==============================] - 0s 5ms/step - loss: 0.0822 - accuracy: 0.9872 - val_loss: 0.9202 - val_accuracy: 0.7059\n",
            "Epoch 143/300\n",
            "16/16 [==============================] - 0s 5ms/step - loss: 0.0808 - accuracy: 0.9936 - val_loss: 0.9250 - val_accuracy: 0.7059\n",
            "Epoch 144/300\n",
            "16/16 [==============================] - 0s 4ms/step - loss: 0.0808 - accuracy: 0.9936 - val_loss: 0.9343 - val_accuracy: 0.7059\n",
            "Epoch 145/300\n",
            "16/16 [==============================] - 0s 5ms/step - loss: 0.0783 - accuracy: 0.9872 - val_loss: 0.9367 - val_accuracy: 0.7059\n",
            "Epoch 146/300\n",
            "16/16 [==============================] - 0s 5ms/step - loss: 0.0773 - accuracy: 0.9936 - val_loss: 0.9462 - val_accuracy: 0.7059\n",
            "Epoch 147/300\n",
            "16/16 [==============================] - 0s 5ms/step - loss: 0.0757 - accuracy: 0.9936 - val_loss: 0.9542 - val_accuracy: 0.7206\n",
            "Epoch 148/300\n",
            "16/16 [==============================] - 0s 4ms/step - loss: 0.0739 - accuracy: 0.9936 - val_loss: 0.9584 - val_accuracy: 0.7206\n",
            "Epoch 149/300\n",
            "16/16 [==============================] - 0s 5ms/step - loss: 0.0729 - accuracy: 0.9936 - val_loss: 0.9702 - val_accuracy: 0.7206\n",
            "Epoch 150/300\n",
            "16/16 [==============================] - 0s 5ms/step - loss: 0.0719 - accuracy: 0.9936 - val_loss: 0.9725 - val_accuracy: 0.7206\n",
            "Epoch 151/300\n",
            "16/16 [==============================] - 0s 5ms/step - loss: 0.0705 - accuracy: 0.9936 - val_loss: 0.9794 - val_accuracy: 0.7206\n",
            "Epoch 152/300\n",
            "16/16 [==============================] - 0s 4ms/step - loss: 0.0694 - accuracy: 0.9936 - val_loss: 0.9909 - val_accuracy: 0.7206\n",
            "Epoch 153/300\n",
            "16/16 [==============================] - 0s 5ms/step - loss: 0.0682 - accuracy: 0.9936 - val_loss: 1.0030 - val_accuracy: 0.7206\n",
            "Epoch 154/300\n",
            "16/16 [==============================] - 0s 6ms/step - loss: 0.0672 - accuracy: 0.9936 - val_loss: 1.0066 - val_accuracy: 0.7206\n",
            "Epoch 155/300\n",
            "16/16 [==============================] - 0s 4ms/step - loss: 0.0665 - accuracy: 0.9936 - val_loss: 1.0098 - val_accuracy: 0.7206\n",
            "Epoch 156/300\n",
            "16/16 [==============================] - 0s 5ms/step - loss: 0.0651 - accuracy: 0.9936 - val_loss: 1.0109 - val_accuracy: 0.7206\n",
            "Epoch 157/300\n",
            "16/16 [==============================] - 0s 5ms/step - loss: 0.0636 - accuracy: 0.9936 - val_loss: 1.0261 - val_accuracy: 0.7206\n",
            "Epoch 158/300\n",
            "16/16 [==============================] - 0s 5ms/step - loss: 0.0626 - accuracy: 0.9936 - val_loss: 1.0384 - val_accuracy: 0.7206\n",
            "Epoch 159/300\n",
            "16/16 [==============================] - 0s 5ms/step - loss: 0.0616 - accuracy: 0.9936 - val_loss: 1.0431 - val_accuracy: 0.7206\n",
            "Epoch 160/300\n",
            "16/16 [==============================] - 0s 5ms/step - loss: 0.0609 - accuracy: 1.0000 - val_loss: 1.0423 - val_accuracy: 0.7206\n",
            "Epoch 161/300\n",
            "16/16 [==============================] - 0s 5ms/step - loss: 0.0599 - accuracy: 1.0000 - val_loss: 1.0624 - val_accuracy: 0.7206\n",
            "Epoch 162/300\n",
            "16/16 [==============================] - 0s 5ms/step - loss: 0.0580 - accuracy: 1.0000 - val_loss: 1.0582 - val_accuracy: 0.7206\n",
            "Epoch 163/300\n",
            "16/16 [==============================] - 0s 5ms/step - loss: 0.0571 - accuracy: 1.0000 - val_loss: 1.0651 - val_accuracy: 0.7206\n",
            "Epoch 164/300\n",
            "16/16 [==============================] - 0s 5ms/step - loss: 0.0564 - accuracy: 1.0000 - val_loss: 1.0727 - val_accuracy: 0.7206\n",
            "Epoch 165/300\n",
            "16/16 [==============================] - 0s 5ms/step - loss: 0.0552 - accuracy: 1.0000 - val_loss: 1.0812 - val_accuracy: 0.7206\n",
            "Epoch 166/300\n",
            "16/16 [==============================] - 0s 8ms/step - loss: 0.0544 - accuracy: 1.0000 - val_loss: 1.0813 - val_accuracy: 0.7206\n",
            "Epoch 167/300\n",
            "16/16 [==============================] - 0s 7ms/step - loss: 0.0534 - accuracy: 1.0000 - val_loss: 1.0932 - val_accuracy: 0.7206\n",
            "Epoch 168/300\n",
            "16/16 [==============================] - 0s 7ms/step - loss: 0.0533 - accuracy: 1.0000 - val_loss: 1.1036 - val_accuracy: 0.7206\n",
            "Epoch 169/300\n",
            "16/16 [==============================] - 0s 7ms/step - loss: 0.0512 - accuracy: 1.0000 - val_loss: 1.1034 - val_accuracy: 0.7206\n",
            "Epoch 170/300\n",
            "16/16 [==============================] - 0s 7ms/step - loss: 0.0501 - accuracy: 1.0000 - val_loss: 1.1148 - val_accuracy: 0.7206\n",
            "Epoch 171/300\n",
            "16/16 [==============================] - 0s 9ms/step - loss: 0.0496 - accuracy: 1.0000 - val_loss: 1.1309 - val_accuracy: 0.7206\n",
            "Epoch 172/300\n",
            "16/16 [==============================] - 0s 8ms/step - loss: 0.0486 - accuracy: 1.0000 - val_loss: 1.1271 - val_accuracy: 0.7206\n",
            "Epoch 173/300\n",
            "16/16 [==============================] - 0s 6ms/step - loss: 0.0480 - accuracy: 1.0000 - val_loss: 1.1391 - val_accuracy: 0.7206\n",
            "Epoch 174/300\n",
            "16/16 [==============================] - 0s 6ms/step - loss: 0.0468 - accuracy: 1.0000 - val_loss: 1.1431 - val_accuracy: 0.7206\n",
            "Epoch 175/300\n",
            "16/16 [==============================] - 0s 6ms/step - loss: 0.0462 - accuracy: 1.0000 - val_loss: 1.1529 - val_accuracy: 0.7206\n",
            "Epoch 176/300\n",
            "16/16 [==============================] - 0s 6ms/step - loss: 0.0452 - accuracy: 1.0000 - val_loss: 1.1571 - val_accuracy: 0.7353\n",
            "Epoch 177/300\n",
            "16/16 [==============================] - 0s 7ms/step - loss: 0.0446 - accuracy: 1.0000 - val_loss: 1.1674 - val_accuracy: 0.7206\n",
            "Epoch 178/300\n",
            "16/16 [==============================] - 0s 6ms/step - loss: 0.0437 - accuracy: 1.0000 - val_loss: 1.1621 - val_accuracy: 0.7353\n",
            "Epoch 179/300\n",
            "16/16 [==============================] - 0s 6ms/step - loss: 0.0428 - accuracy: 1.0000 - val_loss: 1.1775 - val_accuracy: 0.7353\n",
            "Epoch 180/300\n",
            "16/16 [==============================] - 0s 7ms/step - loss: 0.0421 - accuracy: 1.0000 - val_loss: 1.1919 - val_accuracy: 0.7353\n",
            "Epoch 181/300\n",
            "16/16 [==============================] - 0s 9ms/step - loss: 0.0415 - accuracy: 1.0000 - val_loss: 1.1885 - val_accuracy: 0.7353\n",
            "Epoch 182/300\n",
            "16/16 [==============================] - 0s 6ms/step - loss: 0.0410 - accuracy: 1.0000 - val_loss: 1.1989 - val_accuracy: 0.7353\n",
            "Epoch 183/300\n",
            "16/16 [==============================] - 0s 6ms/step - loss: 0.0404 - accuracy: 1.0000 - val_loss: 1.2005 - val_accuracy: 0.7353\n",
            "Epoch 184/300\n",
            "16/16 [==============================] - 0s 6ms/step - loss: 0.0394 - accuracy: 1.0000 - val_loss: 1.2057 - val_accuracy: 0.7353\n",
            "Epoch 185/300\n",
            "16/16 [==============================] - 0s 7ms/step - loss: 0.0397 - accuracy: 1.0000 - val_loss: 1.2148 - val_accuracy: 0.7206\n",
            "Epoch 186/300\n",
            "16/16 [==============================] - 0s 7ms/step - loss: 0.0394 - accuracy: 1.0000 - val_loss: 1.2116 - val_accuracy: 0.7353\n",
            "Epoch 187/300\n",
            "16/16 [==============================] - 0s 6ms/step - loss: 0.0379 - accuracy: 1.0000 - val_loss: 1.2223 - val_accuracy: 0.7353\n",
            "Epoch 188/300\n",
            "16/16 [==============================] - 0s 7ms/step - loss: 0.0365 - accuracy: 1.0000 - val_loss: 1.2323 - val_accuracy: 0.7353\n",
            "Epoch 189/300\n",
            "16/16 [==============================] - 0s 7ms/step - loss: 0.0371 - accuracy: 1.0000 - val_loss: 1.2451 - val_accuracy: 0.7206\n",
            "Epoch 190/300\n",
            "16/16 [==============================] - 0s 7ms/step - loss: 0.0355 - accuracy: 1.0000 - val_loss: 1.2480 - val_accuracy: 0.7353\n",
            "Epoch 191/300\n",
            "16/16 [==============================] - 0s 7ms/step - loss: 0.0363 - accuracy: 1.0000 - val_loss: 1.2409 - val_accuracy: 0.7206\n",
            "Epoch 192/300\n",
            "16/16 [==============================] - 0s 6ms/step - loss: 0.0356 - accuracy: 1.0000 - val_loss: 1.2605 - val_accuracy: 0.7353\n",
            "Epoch 193/300\n",
            "16/16 [==============================] - 0s 6ms/step - loss: 0.0338 - accuracy: 1.0000 - val_loss: 1.2663 - val_accuracy: 0.7206\n",
            "Epoch 194/300\n",
            "16/16 [==============================] - 0s 5ms/step - loss: 0.0336 - accuracy: 1.0000 - val_loss: 1.2643 - val_accuracy: 0.7206\n",
            "Epoch 195/300\n",
            "16/16 [==============================] - 0s 5ms/step - loss: 0.0327 - accuracy: 1.0000 - val_loss: 1.2765 - val_accuracy: 0.7206\n",
            "Epoch 196/300\n",
            "16/16 [==============================] - 0s 5ms/step - loss: 0.0322 - accuracy: 1.0000 - val_loss: 1.2855 - val_accuracy: 0.7206\n",
            "Epoch 197/300\n",
            "16/16 [==============================] - 0s 4ms/step - loss: 0.0318 - accuracy: 1.0000 - val_loss: 1.2923 - val_accuracy: 0.7206\n",
            "Epoch 198/300\n",
            "16/16 [==============================] - 0s 4ms/step - loss: 0.0315 - accuracy: 1.0000 - val_loss: 1.2889 - val_accuracy: 0.7206\n",
            "Epoch 199/300\n",
            "16/16 [==============================] - 0s 4ms/step - loss: 0.0306 - accuracy: 1.0000 - val_loss: 1.3040 - val_accuracy: 0.7059\n",
            "Epoch 200/300\n",
            "16/16 [==============================] - 0s 5ms/step - loss: 0.0301 - accuracy: 1.0000 - val_loss: 1.3113 - val_accuracy: 0.7206\n",
            "Epoch 201/300\n",
            "16/16 [==============================] - 0s 4ms/step - loss: 0.0294 - accuracy: 1.0000 - val_loss: 1.3201 - val_accuracy: 0.7059\n",
            "Epoch 202/300\n",
            "16/16 [==============================] - 0s 5ms/step - loss: 0.0290 - accuracy: 1.0000 - val_loss: 1.3209 - val_accuracy: 0.7206\n",
            "Epoch 203/300\n",
            "16/16 [==============================] - 0s 5ms/step - loss: 0.0288 - accuracy: 1.0000 - val_loss: 1.3302 - val_accuracy: 0.7059\n",
            "Epoch 204/300\n",
            "16/16 [==============================] - 0s 5ms/step - loss: 0.0277 - accuracy: 1.0000 - val_loss: 1.3299 - val_accuracy: 0.7206\n",
            "Epoch 205/300\n",
            "16/16 [==============================] - 0s 4ms/step - loss: 0.0272 - accuracy: 1.0000 - val_loss: 1.3365 - val_accuracy: 0.7206\n",
            "Epoch 206/300\n",
            "16/16 [==============================] - 0s 6ms/step - loss: 0.0268 - accuracy: 1.0000 - val_loss: 1.3481 - val_accuracy: 0.7059\n",
            "Epoch 207/300\n",
            "16/16 [==============================] - 0s 5ms/step - loss: 0.0262 - accuracy: 1.0000 - val_loss: 1.3511 - val_accuracy: 0.7206\n",
            "Epoch 208/300\n",
            "16/16 [==============================] - 0s 5ms/step - loss: 0.0257 - accuracy: 1.0000 - val_loss: 1.3587 - val_accuracy: 0.7059\n",
            "Epoch 209/300\n",
            "16/16 [==============================] - 0s 5ms/step - loss: 0.0262 - accuracy: 1.0000 - val_loss: 1.3608 - val_accuracy: 0.7206\n",
            "Epoch 210/300\n",
            "16/16 [==============================] - 0s 5ms/step - loss: 0.0244 - accuracy: 1.0000 - val_loss: 1.3744 - val_accuracy: 0.7059\n",
            "Epoch 211/300\n",
            "16/16 [==============================] - 0s 5ms/step - loss: 0.0245 - accuracy: 1.0000 - val_loss: 1.3754 - val_accuracy: 0.7059\n",
            "Epoch 212/300\n",
            "16/16 [==============================] - 0s 5ms/step - loss: 0.0238 - accuracy: 1.0000 - val_loss: 1.3805 - val_accuracy: 0.7059\n",
            "Epoch 213/300\n",
            "16/16 [==============================] - 0s 5ms/step - loss: 0.0235 - accuracy: 1.0000 - val_loss: 1.3850 - val_accuracy: 0.7206\n",
            "Epoch 214/300\n",
            "16/16 [==============================] - 0s 6ms/step - loss: 0.0233 - accuracy: 1.0000 - val_loss: 1.3914 - val_accuracy: 0.7206\n",
            "Epoch 215/300\n",
            "16/16 [==============================] - 0s 5ms/step - loss: 0.0232 - accuracy: 1.0000 - val_loss: 1.3981 - val_accuracy: 0.7059\n",
            "Epoch 216/300\n",
            "16/16 [==============================] - 0s 5ms/step - loss: 0.0222 - accuracy: 1.0000 - val_loss: 1.4009 - val_accuracy: 0.7206\n",
            "Epoch 217/300\n",
            "16/16 [==============================] - 0s 4ms/step - loss: 0.0221 - accuracy: 1.0000 - val_loss: 1.4107 - val_accuracy: 0.7059\n",
            "Epoch 218/300\n",
            "16/16 [==============================] - 0s 5ms/step - loss: 0.0214 - accuracy: 1.0000 - val_loss: 1.4040 - val_accuracy: 0.7206\n",
            "Epoch 219/300\n",
            "16/16 [==============================] - 0s 4ms/step - loss: 0.0214 - accuracy: 1.0000 - val_loss: 1.4202 - val_accuracy: 0.7059\n",
            "Epoch 220/300\n",
            "16/16 [==============================] - 0s 5ms/step - loss: 0.0211 - accuracy: 1.0000 - val_loss: 1.4203 - val_accuracy: 0.7206\n",
            "Epoch 221/300\n",
            "16/16 [==============================] - 0s 5ms/step - loss: 0.0206 - accuracy: 1.0000 - val_loss: 1.4353 - val_accuracy: 0.7059\n",
            "Epoch 222/300\n",
            "16/16 [==============================] - 0s 5ms/step - loss: 0.0207 - accuracy: 1.0000 - val_loss: 1.4424 - val_accuracy: 0.7059\n",
            "Epoch 223/300\n",
            "16/16 [==============================] - 0s 5ms/step - loss: 0.0200 - accuracy: 1.0000 - val_loss: 1.4442 - val_accuracy: 0.7206\n",
            "Epoch 224/300\n",
            "16/16 [==============================] - 0s 5ms/step - loss: 0.0192 - accuracy: 1.0000 - val_loss: 1.4518 - val_accuracy: 0.7059\n",
            "Epoch 225/300\n",
            "16/16 [==============================] - 0s 5ms/step - loss: 0.0192 - accuracy: 1.0000 - val_loss: 1.4572 - val_accuracy: 0.7059\n",
            "Epoch 226/300\n",
            "16/16 [==============================] - 0s 5ms/step - loss: 0.0192 - accuracy: 1.0000 - val_loss: 1.4551 - val_accuracy: 0.7206\n",
            "Epoch 227/300\n",
            "16/16 [==============================] - 0s 5ms/step - loss: 0.0187 - accuracy: 1.0000 - val_loss: 1.4705 - val_accuracy: 0.7059\n",
            "Epoch 228/300\n",
            "16/16 [==============================] - 0s 5ms/step - loss: 0.0181 - accuracy: 1.0000 - val_loss: 1.4740 - val_accuracy: 0.7059\n",
            "Epoch 229/300\n",
            "16/16 [==============================] - 0s 5ms/step - loss: 0.0180 - accuracy: 1.0000 - val_loss: 1.4795 - val_accuracy: 0.7059\n",
            "Epoch 230/300\n",
            "16/16 [==============================] - 0s 5ms/step - loss: 0.0175 - accuracy: 1.0000 - val_loss: 1.4815 - val_accuracy: 0.7059\n",
            "Epoch 231/300\n",
            "16/16 [==============================] - 0s 5ms/step - loss: 0.0173 - accuracy: 1.0000 - val_loss: 1.4926 - val_accuracy: 0.7059\n",
            "Epoch 232/300\n",
            "16/16 [==============================] - 0s 5ms/step - loss: 0.0168 - accuracy: 1.0000 - val_loss: 1.4958 - val_accuracy: 0.7059\n",
            "Epoch 233/300\n",
            "16/16 [==============================] - 0s 5ms/step - loss: 0.0170 - accuracy: 1.0000 - val_loss: 1.5042 - val_accuracy: 0.7059\n",
            "Epoch 234/300\n",
            "16/16 [==============================] - 0s 6ms/step - loss: 0.0167 - accuracy: 1.0000 - val_loss: 1.5051 - val_accuracy: 0.7206\n",
            "Epoch 235/300\n",
            "16/16 [==============================] - 0s 5ms/step - loss: 0.0166 - accuracy: 1.0000 - val_loss: 1.5113 - val_accuracy: 0.7059\n",
            "Epoch 236/300\n",
            "16/16 [==============================] - 0s 5ms/step - loss: 0.0166 - accuracy: 1.0000 - val_loss: 1.5201 - val_accuracy: 0.7059\n",
            "Epoch 237/300\n",
            "16/16 [==============================] - 0s 5ms/step - loss: 0.0155 - accuracy: 1.0000 - val_loss: 1.5228 - val_accuracy: 0.7059\n",
            "Epoch 238/300\n",
            "16/16 [==============================] - 0s 5ms/step - loss: 0.0153 - accuracy: 1.0000 - val_loss: 1.5235 - val_accuracy: 0.7059\n",
            "Epoch 239/300\n",
            "16/16 [==============================] - 0s 5ms/step - loss: 0.0150 - accuracy: 1.0000 - val_loss: 1.5316 - val_accuracy: 0.7059\n",
            "Epoch 240/300\n",
            "16/16 [==============================] - 0s 5ms/step - loss: 0.0148 - accuracy: 1.0000 - val_loss: 1.5406 - val_accuracy: 0.7059\n",
            "Epoch 241/300\n",
            "16/16 [==============================] - 0s 4ms/step - loss: 0.0145 - accuracy: 1.0000 - val_loss: 1.5480 - val_accuracy: 0.7059\n",
            "Epoch 242/300\n",
            "16/16 [==============================] - 0s 5ms/step - loss: 0.0142 - accuracy: 1.0000 - val_loss: 1.5486 - val_accuracy: 0.7059\n",
            "Epoch 243/300\n",
            "16/16 [==============================] - 0s 5ms/step - loss: 0.0141 - accuracy: 1.0000 - val_loss: 1.5565 - val_accuracy: 0.7059\n",
            "Epoch 244/300\n",
            "16/16 [==============================] - 0s 5ms/step - loss: 0.0139 - accuracy: 1.0000 - val_loss: 1.5611 - val_accuracy: 0.7059\n",
            "Epoch 245/300\n",
            "16/16 [==============================] - 0s 5ms/step - loss: 0.0137 - accuracy: 1.0000 - val_loss: 1.5667 - val_accuracy: 0.7059\n",
            "Epoch 246/300\n",
            "16/16 [==============================] - 0s 6ms/step - loss: 0.0135 - accuracy: 1.0000 - val_loss: 1.5727 - val_accuracy: 0.7059\n",
            "Epoch 247/300\n",
            "16/16 [==============================] - 0s 5ms/step - loss: 0.0133 - accuracy: 1.0000 - val_loss: 1.5768 - val_accuracy: 0.7059\n",
            "Epoch 248/300\n",
            "16/16 [==============================] - 0s 5ms/step - loss: 0.0129 - accuracy: 1.0000 - val_loss: 1.5748 - val_accuracy: 0.7206\n",
            "Epoch 249/300\n",
            "16/16 [==============================] - 0s 6ms/step - loss: 0.0131 - accuracy: 1.0000 - val_loss: 1.5844 - val_accuracy: 0.7059\n",
            "Epoch 250/300\n",
            "16/16 [==============================] - 0s 4ms/step - loss: 0.0128 - accuracy: 1.0000 - val_loss: 1.5909 - val_accuracy: 0.7059\n",
            "Epoch 251/300\n",
            "16/16 [==============================] - 0s 4ms/step - loss: 0.0124 - accuracy: 1.0000 - val_loss: 1.5985 - val_accuracy: 0.7059\n",
            "Epoch 252/300\n",
            "16/16 [==============================] - 0s 5ms/step - loss: 0.0123 - accuracy: 1.0000 - val_loss: 1.6068 - val_accuracy: 0.7059\n",
            "Epoch 253/300\n",
            "16/16 [==============================] - 0s 4ms/step - loss: 0.0120 - accuracy: 1.0000 - val_loss: 1.6059 - val_accuracy: 0.7059\n",
            "Epoch 254/300\n",
            "16/16 [==============================] - 0s 15ms/step - loss: 0.0119 - accuracy: 1.0000 - val_loss: 1.6092 - val_accuracy: 0.6912\n",
            "Epoch 255/300\n",
            "16/16 [==============================] - 0s 6ms/step - loss: 0.0116 - accuracy: 1.0000 - val_loss: 1.6131 - val_accuracy: 0.6912\n",
            "Epoch 256/300\n",
            "16/16 [==============================] - 0s 5ms/step - loss: 0.0116 - accuracy: 1.0000 - val_loss: 1.6191 - val_accuracy: 0.6912\n",
            "Epoch 257/300\n",
            "16/16 [==============================] - 0s 4ms/step - loss: 0.0112 - accuracy: 1.0000 - val_loss: 1.6241 - val_accuracy: 0.6912\n",
            "Epoch 258/300\n",
            "16/16 [==============================] - 0s 5ms/step - loss: 0.0112 - accuracy: 1.0000 - val_loss: 1.6250 - val_accuracy: 0.6912\n",
            "Epoch 259/300\n",
            "16/16 [==============================] - 0s 5ms/step - loss: 0.0109 - accuracy: 1.0000 - val_loss: 1.6388 - val_accuracy: 0.6912\n",
            "Epoch 260/300\n",
            "16/16 [==============================] - 0s 5ms/step - loss: 0.0110 - accuracy: 1.0000 - val_loss: 1.6415 - val_accuracy: 0.7059\n",
            "Epoch 261/300\n",
            "16/16 [==============================] - 0s 13ms/step - loss: 0.0106 - accuracy: 1.0000 - val_loss: 1.6464 - val_accuracy: 0.6912\n",
            "Epoch 262/300\n",
            "16/16 [==============================] - 0s 11ms/step - loss: 0.0106 - accuracy: 1.0000 - val_loss: 1.6520 - val_accuracy: 0.6912\n",
            "Epoch 263/300\n",
            "16/16 [==============================] - 0s 5ms/step - loss: 0.0103 - accuracy: 1.0000 - val_loss: 1.6560 - val_accuracy: 0.6912\n",
            "Epoch 264/300\n",
            "16/16 [==============================] - 0s 5ms/step - loss: 0.0101 - accuracy: 1.0000 - val_loss: 1.6610 - val_accuracy: 0.6912\n",
            "Epoch 265/300\n",
            "16/16 [==============================] - 0s 5ms/step - loss: 0.0101 - accuracy: 1.0000 - val_loss: 1.6675 - val_accuracy: 0.6912\n",
            "Epoch 266/300\n",
            "16/16 [==============================] - 0s 5ms/step - loss: 0.0100 - accuracy: 1.0000 - val_loss: 1.6708 - val_accuracy: 0.6912\n",
            "Epoch 267/300\n",
            "16/16 [==============================] - 0s 4ms/step - loss: 0.0097 - accuracy: 1.0000 - val_loss: 1.6795 - val_accuracy: 0.6912\n",
            "Epoch 268/300\n",
            "16/16 [==============================] - 0s 5ms/step - loss: 0.0098 - accuracy: 1.0000 - val_loss: 1.6799 - val_accuracy: 0.6912\n",
            "Epoch 269/300\n",
            "16/16 [==============================] - 0s 19ms/step - loss: 0.0096 - accuracy: 1.0000 - val_loss: 1.6881 - val_accuracy: 0.6912\n",
            "Epoch 270/300\n",
            "16/16 [==============================] - 0s 5ms/step - loss: 0.0092 - accuracy: 1.0000 - val_loss: 1.6898 - val_accuracy: 0.6912\n",
            "Epoch 271/300\n",
            "16/16 [==============================] - 0s 5ms/step - loss: 0.0091 - accuracy: 1.0000 - val_loss: 1.6958 - val_accuracy: 0.6912\n",
            "Epoch 272/300\n",
            "16/16 [==============================] - 0s 4ms/step - loss: 0.0091 - accuracy: 1.0000 - val_loss: 1.7030 - val_accuracy: 0.6912\n",
            "Epoch 273/300\n",
            "16/16 [==============================] - 0s 5ms/step - loss: 0.0089 - accuracy: 1.0000 - val_loss: 1.7058 - val_accuracy: 0.6912\n",
            "Epoch 274/300\n",
            "16/16 [==============================] - 0s 5ms/step - loss: 0.0090 - accuracy: 1.0000 - val_loss: 1.7103 - val_accuracy: 0.6912\n",
            "Epoch 275/300\n",
            "16/16 [==============================] - 0s 5ms/step - loss: 0.0086 - accuracy: 1.0000 - val_loss: 1.7129 - val_accuracy: 0.6912\n",
            "Epoch 276/300\n",
            "16/16 [==============================] - 0s 6ms/step - loss: 0.0085 - accuracy: 1.0000 - val_loss: 1.7205 - val_accuracy: 0.6912\n",
            "Epoch 277/300\n",
            "16/16 [==============================] - 0s 5ms/step - loss: 0.0083 - accuracy: 1.0000 - val_loss: 1.7224 - val_accuracy: 0.6912\n",
            "Epoch 278/300\n",
            "16/16 [==============================] - 0s 5ms/step - loss: 0.0082 - accuracy: 1.0000 - val_loss: 1.7281 - val_accuracy: 0.6912\n",
            "Epoch 279/300\n",
            "16/16 [==============================] - 0s 5ms/step - loss: 0.0082 - accuracy: 1.0000 - val_loss: 1.7360 - val_accuracy: 0.6912\n",
            "Epoch 280/300\n",
            "16/16 [==============================] - 0s 5ms/step - loss: 0.0080 - accuracy: 1.0000 - val_loss: 1.7391 - val_accuracy: 0.6912\n",
            "Epoch 281/300\n",
            "16/16 [==============================] - 0s 4ms/step - loss: 0.0078 - accuracy: 1.0000 - val_loss: 1.7448 - val_accuracy: 0.6912\n",
            "Epoch 282/300\n",
            "16/16 [==============================] - 0s 4ms/step - loss: 0.0078 - accuracy: 1.0000 - val_loss: 1.7491 - val_accuracy: 0.6912\n",
            "Epoch 283/300\n",
            "16/16 [==============================] - 0s 4ms/step - loss: 0.0076 - accuracy: 1.0000 - val_loss: 1.7521 - val_accuracy: 0.6912\n",
            "Epoch 284/300\n",
            "16/16 [==============================] - 0s 4ms/step - loss: 0.0075 - accuracy: 1.0000 - val_loss: 1.7594 - val_accuracy: 0.6912\n",
            "Epoch 285/300\n",
            "16/16 [==============================] - 0s 5ms/step - loss: 0.0074 - accuracy: 1.0000 - val_loss: 1.7639 - val_accuracy: 0.6912\n",
            "Epoch 286/300\n",
            "16/16 [==============================] - 0s 4ms/step - loss: 0.0074 - accuracy: 1.0000 - val_loss: 1.7701 - val_accuracy: 0.6912\n",
            "Epoch 287/300\n",
            "16/16 [==============================] - 0s 4ms/step - loss: 0.0072 - accuracy: 1.0000 - val_loss: 1.7705 - val_accuracy: 0.6912\n",
            "Epoch 288/300\n",
            "16/16 [==============================] - 0s 4ms/step - loss: 0.0071 - accuracy: 1.0000 - val_loss: 1.7780 - val_accuracy: 0.6912\n",
            "Epoch 289/300\n",
            "16/16 [==============================] - 0s 5ms/step - loss: 0.0070 - accuracy: 1.0000 - val_loss: 1.7834 - val_accuracy: 0.6912\n",
            "Epoch 290/300\n",
            "16/16 [==============================] - 0s 5ms/step - loss: 0.0068 - accuracy: 1.0000 - val_loss: 1.7832 - val_accuracy: 0.6912\n",
            "Epoch 291/300\n",
            "16/16 [==============================] - 0s 5ms/step - loss: 0.0068 - accuracy: 1.0000 - val_loss: 1.7914 - val_accuracy: 0.6912\n",
            "Epoch 292/300\n",
            "16/16 [==============================] - 0s 5ms/step - loss: 0.0066 - accuracy: 1.0000 - val_loss: 1.7940 - val_accuracy: 0.6912\n",
            "Epoch 293/300\n",
            "16/16 [==============================] - 0s 5ms/step - loss: 0.0067 - accuracy: 1.0000 - val_loss: 1.7967 - val_accuracy: 0.6912\n",
            "Epoch 294/300\n",
            "16/16 [==============================] - 0s 5ms/step - loss: 0.0066 - accuracy: 1.0000 - val_loss: 1.8051 - val_accuracy: 0.6765\n",
            "Epoch 295/300\n",
            "16/16 [==============================] - 0s 5ms/step - loss: 0.0064 - accuracy: 1.0000 - val_loss: 1.8101 - val_accuracy: 0.6912\n",
            "Epoch 296/300\n",
            "16/16 [==============================] - 0s 6ms/step - loss: 0.0064 - accuracy: 1.0000 - val_loss: 1.8147 - val_accuracy: 0.6912\n",
            "Epoch 297/300\n",
            "16/16 [==============================] - 0s 5ms/step - loss: 0.0063 - accuracy: 1.0000 - val_loss: 1.8204 - val_accuracy: 0.6912\n",
            "Epoch 298/300\n",
            "16/16 [==============================] - 0s 4ms/step - loss: 0.0061 - accuracy: 1.0000 - val_loss: 1.8245 - val_accuracy: 0.6912\n",
            "Epoch 299/300\n",
            "16/16 [==============================] - 0s 5ms/step - loss: 0.0061 - accuracy: 1.0000 - val_loss: 1.8299 - val_accuracy: 0.6765\n",
            "Epoch 300/300\n",
            "16/16 [==============================] - 0s 5ms/step - loss: 0.0059 - accuracy: 1.0000 - val_loss: 1.8336 - val_accuracy: 0.6765\n"
          ]
        }
      ],
      "source": [
        "history=model.fit(x=xtrain,y=ytrain,validation_split=0.30,epochs=300,batch_size=10)"
      ]
    },
    {
      "cell_type": "code",
      "execution_count": 35,
      "id": "6dd89753",
      "metadata": {
        "execution": {
          "iopub.execute_input": "2023-03-28T16:47:49.724830Z",
          "iopub.status.busy": "2023-03-28T16:47:49.724398Z",
          "iopub.status.idle": "2023-03-28T16:47:49.829317Z",
          "shell.execute_reply": "2023-03-28T16:47:49.827532Z"
        },
        "papermill": {
          "duration": 0.179342,
          "end_time": "2023-03-28T16:47:49.832196",
          "exception": false,
          "start_time": "2023-03-28T16:47:49.652854",
          "status": "completed"
        },
        "tags": [],
        "colab": {
          "base_uri": "https://localhost:8080/"
        },
        "id": "6dd89753",
        "outputId": "a64148f3-bb20-44ba-abe0-d1cd17b23f1d"
      },
      "outputs": [
        {
          "output_type": "stream",
          "name": "stdout",
          "text": [
            "7/7 [==============================] - 0s 3ms/step - loss: 0.5607 - accuracy: 0.9018\n",
            "accuracy: 90.18%\n"
          ]
        }
      ],
      "source": [
        "scores=model.evaluate(xtrain,ytrain)\n",
        "print(\"%s: %.2f%%\" % (model.metrics_names[1],scores[1]*100))"
      ]
    },
    {
      "cell_type": "code",
      "execution_count": 36,
      "id": "97cc33a3",
      "metadata": {
        "execution": {
          "iopub.execute_input": "2023-03-28T16:47:49.973558Z",
          "iopub.status.busy": "2023-03-28T16:47:49.972794Z",
          "iopub.status.idle": "2023-03-28T16:47:50.061382Z",
          "shell.execute_reply": "2023-03-28T16:47:50.059664Z"
        },
        "papermill": {
          "duration": 0.162664,
          "end_time": "2023-03-28T16:47:50.064345",
          "exception": false,
          "start_time": "2023-03-28T16:47:49.901681",
          "status": "completed"
        },
        "tags": [],
        "colab": {
          "base_uri": "https://localhost:8080/"
        },
        "id": "97cc33a3",
        "outputId": "ea9d1594-6782-4b81-cc12-eeffc5c644a9"
      },
      "outputs": [
        {
          "output_type": "stream",
          "name": "stdout",
          "text": [
            "3/3 [==============================] - 0s 8ms/step - loss: 0.9422 - accuracy: 0.8000\n",
            "accuracy: 80.00%\n"
          ]
        }
      ],
      "source": [
        "scores=model.evaluate(xtest,ytest)\n",
        "print(\"%s: %.2f%%\" % (model.metrics_names[1],scores[1]*100))"
      ]
    },
    {
      "cell_type": "code",
      "execution_count": 37,
      "id": "4dd76ded",
      "metadata": {
        "execution": {
          "iopub.execute_input": "2023-03-28T16:47:50.203238Z",
          "iopub.status.busy": "2023-03-28T16:47:50.202754Z",
          "iopub.status.idle": "2023-03-28T16:47:50.501175Z",
          "shell.execute_reply": "2023-03-28T16:47:50.500146Z"
        },
        "papermill": {
          "duration": 0.371192,
          "end_time": "2023-03-28T16:47:50.503672",
          "exception": false,
          "start_time": "2023-03-28T16:47:50.132480",
          "status": "completed"
        },
        "tags": [],
        "colab": {
          "base_uri": "https://localhost:8080/",
          "height": 472
        },
        "id": "4dd76ded",
        "outputId": "44eebb5a-6c45-4dd9-aec3-aed09276dbe6"
      },
      "outputs": [
        {
          "output_type": "display_data",
          "data": {
            "text/plain": [
              "<Figure size 640x480 with 1 Axes>"
            ],
            "image/png": "[encoded data removed]"
          },
          "metadata": {}
        }
      ],
      "source": [
        "plt.plot(history.history['accuracy'])\n",
        "plt.plot(history.history['val_accuracy'])\n",
        "plt.title('model accuracy')\n",
        "plt.ylabel('accuracy')\n",
        "plt.xlabel('epoch')\n",
        "plt.legend(['train','test'],loc='upper left')\n",
        "plt.show()"
      ]
    },
    {
      "cell_type": "code",
      "execution_count": 38,
      "id": "4ee13f19",
      "metadata": {
        "execution": {
          "iopub.execute_input": "2023-03-28T16:47:50.644211Z",
          "iopub.status.busy": "2023-03-28T16:47:50.642918Z",
          "iopub.status.idle": "2023-03-28T16:47:50.860041Z",
          "shell.execute_reply": "2023-03-28T16:47:50.858121Z"
        },
        "papermill": {
          "duration": 0.290096,
          "end_time": "2023-03-28T16:47:50.862745",
          "exception": false,
          "start_time": "2023-03-28T16:47:50.572649",
          "status": "completed"
        },
        "tags": [],
        "colab": {
          "base_uri": "https://localhost:8080/"
        },
        "id": "4ee13f19",
        "outputId": "a96bd9f5-d81e-4fdb-fd88-28030bbaf9c4"
      },
      "outputs": [
        {
          "output_type": "stream",
          "name": "stdout",
          "text": [
            "7/7 [==============================] - 0s 3ms/step - loss: 0.5607 - accuracy: 0.9018\n",
            "3/3 [==============================] - 0s 4ms/step - loss: 0.9422 - accuracy: 0.8000\n"
          ]
        }
      ],
      "source": [
        "Models={\"Models\":[\"KNN\",\"Random_Forest_Classifier\",\"SVC_rbf\",\"SVC_Poly\",\"SVC_linear\",\"SVC_sigmoid\",\"Logistic_Regression\",\"ANN\"],\\\n",
        "       \"Training_Accuracy\":[model_knn.score(xtrain,ytrain),model_rf.score(xtrain,ytrain),model_SVC_rbf.score(xtrain,ytrain),model_SVC_poly.score(xtrain,ytrain),model_SVC_linear.score(xtrain,ytrain),model_SVC_sigmoid.score(xtrain,ytrain),model_SVC_sigmoid.score(xtrain,ytrain),model.evaluate(xtrain,ytrain)],\\\n",
        "       \"Testing_Accuracy\":[model_knn.score(xtest,ytest),model_rf.score(xtest,ytest),model_SVC_rbf.score(xtest,ytest),model_SVC_poly.score(xtest,ytest),model_SVC_linear.score(xtest,ytest),model_SVC_sigmoid.score(xtest,ytest),model_SVC_sigmoid.score(xtest,ytest),model.evaluate(xtest,ytest)]}\n",
        "\n",
        "Scores=pd.DataFrame(Models)"
      ]
    },
    {
      "cell_type": "code",
      "execution_count": 39,
      "id": "699b2839",
      "metadata": {
        "execution": {
          "iopub.execute_input": "2023-03-28T16:47:51.005321Z",
          "iopub.status.busy": "2023-03-28T16:47:51.003947Z",
          "iopub.status.idle": "2023-03-28T16:47:51.016859Z",
          "shell.execute_reply": "2023-03-28T16:47:51.015865Z"
        },
        "papermill": {
          "duration": 0.087047,
          "end_time": "2023-03-28T16:47:51.019133",
          "exception": false,
          "start_time": "2023-03-28T16:47:50.932086",
          "status": "completed"
        },
        "tags": [],
        "colab": {
          "base_uri": "https://localhost:8080/",
          "height": 300
        },
        "id": "699b2839",
        "outputId": "9b01d5fe-e884-4537-e19b-654b277a64ff"
      },
      "outputs": [
        {
          "output_type": "execute_result",
          "data": {
            "text/plain": [
              "                     Models                         Training_Accuracy  \\\n",
              "0                       KNN                                  0.772321   \n",
              "1  Random_Forest_Classifier                                       1.0   \n",
              "2                   SVC_rbf                                  0.888393   \n",
              "3                  SVC_Poly                                  0.861607   \n",
              "4                SVC_linear                                  0.825893   \n",
              "5               SVC_sigmoid                                   0.78125   \n",
              "6       Logistic_Regression                                   0.78125   \n",
              "7                       ANN  [0.5606646537780762, 0.9017857313156128]   \n",
              "\n",
              "                          Testing_Accuracy  \n",
              "0                                 0.773333  \n",
              "1                                 0.906667  \n",
              "2                                     0.88  \n",
              "3                                 0.786667  \n",
              "4                                 0.866667  \n",
              "5                                 0.826667  \n",
              "6                                 0.826667  \n",
              "7  [0.9422306418418884, 0.800000011920929]  "
            ],
            "text/html": [
              "\n",
              "  <div id=\"df-03ad4743-2ac0-4f23-8360-c08d2259dae1\">\n",
              "    <div class=\"colab-df-container\">\n",
              "      <div>\n",
              "<style scoped>\n",
              "    .dataframe tbody tr th:only-of-type {\n",
              "        vertical-align: middle;\n",
              "    }\n",
              "\n",
              "    .dataframe tbody tr th {\n",
              "        vertical-align: top;\n",
              "    }\n",
              "\n",
              "    .dataframe thead th {\n",
              "        text-align: right;\n",
              "    }\n",
              "</style>\n",
              "<table border=\"1\" class=\"dataframe\">\n",
              "  <thead>\n",
              "    <tr style=\"text-align: right;\">\n",
              "      <th></th>\n",
              "      <th>Models</th>\n",
              "      <th>Training_Accuracy</th>\n",
              "      <th>Testing_Accuracy</th>\n",
              "    </tr>\n",
              "  </thead>\n",
              "  <tbody>\n",
              "    <tr>\n",
              "      <th>0</th>\n",
              "      <td>KNN</td>\n",
              "      <td>0.772321</td>\n",
              "      <td>0.773333</td>\n",
              "    </tr>\n",
              "    <tr>\n",
              "      <th>1</th>\n",
              "      <td>Random_Forest_Classifier</td>\n",
              "      <td>1.0</td>\n",
              "      <td>0.906667</td>\n",
              "    </tr>\n",
              "    <tr>\n",
              "      <th>2</th>\n",
              "      <td>SVC_rbf</td>\n",
              "      <td>0.888393</td>\n",
              "      <td>0.88</td>\n",
              "    </tr>\n",
              "    <tr>\n",
              "      <th>3</th>\n",
              "      <td>SVC_Poly</td>\n",
              "      <td>0.861607</td>\n",
              "      <td>0.786667</td>\n",
              "    </tr>\n",
              "    <tr>\n",
              "      <th>4</th>\n",
              "      <td>SVC_linear</td>\n",
              "      <td>0.825893</td>\n",
              "      <td>0.866667</td>\n",
              "    </tr>\n",
              "    <tr>\n",
              "      <th>5</th>\n",
              "      <td>SVC_sigmoid</td>\n",
              "      <td>0.78125</td>\n",
              "      <td>0.826667</td>\n",
              "    </tr>\n",
              "    <tr>\n",
              "      <th>6</th>\n",
              "      <td>Logistic_Regression</td>\n",
              "      <td>0.78125</td>\n",
              "      <td>0.826667</td>\n",
              "    </tr>\n",
              "    <tr>\n",
              "      <th>7</th>\n",
              "      <td>ANN</td>\n",
              "      <td>[0.5606646537780762, 0.9017857313156128]</td>\n",
              "      <td>[0.9422306418418884, 0.800000011920929]</td>\n",
              "    </tr>\n",
              "  </tbody>\n",
              "</table>\n",
              "</div>\n",
              "      <button class=\"colab-df-convert\" onclick=\"convertToInteractive('df-03ad4743-2ac0-4f23-8360-c08d2259dae1')\"\n",
              "              title=\"Convert this dataframe to an interactive table.\"\n",
              "              style=\"display:none;\">\n",
              "        \n",
              "  <svg xmlns=\"http://www.w3.org/2000/svg\" height=\"24px\"viewBox=\"0 0 24 24\"\n",
              "       width=\"24px\">\n",
              "    <path d=\"M0 0h24v24H0V0z\" fill=\"none\"/>\n",
              "    <path d=\"M18.56 5.44l.94 2.06.94-2.06 2.06-.94-2.06-.94-.94-2.06-.94 2.06-2.06.94zm-11 1L8.5 8.5l.94-2.06 2.06-.94-2.06-.94L8.5 2.5l-.94 2.06-2.06.94zm10 10l.94 2.06.94-2.06 2.06-.94-2.06-.94-.94-2.06-.94 2.06-2.06.94z\"/><path d=\"M17.41 7.96l-1.37-1.37c-.4-.4-.92-.59-1.43-.59-.52 0-1.04.2-1.43.59L10.3 9.45l-7.72 7.72c-.78.78-.78 2.05 0 2.83L4 21.41c.39.39.9.59 1.41.59.51 0 1.02-.2 1.41-.59l7.78-7.78 2.81-2.81c.8-.78.8-2.07 0-2.86zM5.41 20L4 18.59l7.72-7.72 1.47 1.35L5.41 20z\"/>\n",
              "  </svg>\n",
              "      </button>\n",
              "      \n",
              "  <style>\n",
              "    .colab-df-container {\n",
              "      display:flex;\n",
              "      flex-wrap:wrap;\n",
              "      gap: 12px;\n",
              "    }\n",
              "\n",
              "    .colab-df-convert {\n",
              "      background-color: #E8F0FE;\n",
              "      border: none;\n",
              "      border-radius: 50%;\n",
              "      cursor: pointer;\n",
              "      display: none;\n",
              "      fill: #1967D2;\n",
              "      height: 32px;\n",
              "      padding: 0 0 0 0;\n",
              "      width: 32px;\n",
              "    }\n",
              "\n",
              "    .colab-df-convert:hover {\n",
              "      background-color: #E2EBFA;\n",
              "      box-shadow: 0px 1px 2px rgba(60, 64, 67, 0.3), 0px 1px 3px 1px rgba(60, 64, 67, 0.15);\n",
              "      fill: #174EA6;\n",
              "    }\n",
              "\n",
              "    [theme=dark] .colab-df-convert {\n",
              "      background-color: #3B4455;\n",
              "      fill: #D2E3FC;\n",
              "    }\n",
              "\n",
              "    [theme=dark] .colab-df-convert:hover {\n",
              "      background-color: #434B5C;\n",
              "      box-shadow: 0px 1px 3px 1px rgba(0, 0, 0, 0.15);\n",
              "      filter: drop-shadow(0px 1px 2px rgba(0, 0, 0, 0.3));\n",
              "      fill: #FFFFFF;\n",
              "    }\n",
              "  </style>\n",
              "\n",
              "      <script>\n",
              "        const buttonEl =\n",
              "          document.querySelector('#df-03ad4743-2ac0-4f23-8360-c08d2259dae1 button.colab-df-convert');\n",
              "        buttonEl.style.display =\n",
              "          google.colab.kernel.accessAllowed ? 'block' : 'none';\n",
              "\n",
              "        async function convertToInteractive(key) {\n",
              "          const element = document.querySelector('#df-03ad4743-2ac0-4f23-8360-c08d2259dae1');\n",
              "          const dataTable =\n",
              "            await google.colab.kernel.invokeFunction('convertToInteractive',\n",
              "                                                     [key], {});\n",
              "          if (!dataTable) return;\n",
              "\n",
              "          const docLinkHtml = 'Like what you see? Visit the ' +\n",
              "            '<a target=\"_blank\" href=https://colab.research.google.com/notebooks/data_table.ipynb>data table notebook</a>'\n",
              "            + ' to learn more about interactive tables.';\n",
              "          element.innerHTML = '';\n",
              "          dataTable['output_type'] = 'display_data';\n",
              "          await google.colab.output.renderOutput(dataTable, element);\n",
              "          const docLink = document.createElement('div');\n",
              "          docLink.innerHTML = docLinkHtml;\n",
              "          element.appendChild(docLink);\n",
              "        }\n",
              "      </script>\n",
              "    </div>\n",
              "  </div>\n",
              "  "
            ]
          },
          "metadata": {},
          "execution_count": 39
        }
      ],
      "source": [
        "Scores "
      ]
    },
    {
      "cell_type": "code",
      "execution_count": 53,
      "id": "af5a3008",
      "metadata": {
        "papermill": {
          "duration": 0.069271,
          "end_time": "2023-03-28T16:47:51.158030",
          "exception": false,
          "start_time": "2023-03-28T16:47:51.088759",
          "status": "completed"
        },
        "tags": [],
        "id": "af5a3008"
      },
      "outputs": [],
      "source": [
        " ypred_LR=model_SVC_sigmoid.predict([xtest[21]])"
      ]
    },
    {
      "cell_type": "code",
      "source": [
        "ypred_LR"
      ],
      "metadata": {
        "colab": {
          "base_uri": "https://localhost:8080/"
        },
        "id": "w18K8nssGHpk",
        "outputId": "88449dbe-7bdd-4e48-8eaa-cb63fb9d6e38"
      },
      "id": "w18K8nssGHpk",
      "execution_count": 54,
      "outputs": [
        {
          "output_type": "execute_result",
          "data": {
            "text/plain": [
              "array([1])"
            ]
          },
          "metadata": {},
          "execution_count": 54
        }
      ]
    },
    {
      "cell_type": "code",
      "source": [],
      "metadata": {
        "id": "2ihhFcv2GFW8"
      },
      "id": "2ihhFcv2GFW8",
      "execution_count": null,
      "outputs": []
    }
  ],
  "metadata": {
    "kernelspec": {
      "display_name": "Python 3",
      "language": "python",
      "name": "python3"
    },
    "language_info": {
      "codemirror_mode": {
        "name": "ipython",
        "version": 3
      },
      "file_extension": ".py",
      "mimetype": "text/x-python",
      "name": "python",
      "nbconvert_exporter": "python",
      "pygments_lexer": "ipython3",
      "version": "3.7.12"
    },
    "papermill": {
      "default_parameters": {},
      "duration": 53.800338,
      "end_time": "2023-03-28T16:47:53.946296",
      "environment_variables": {},
      "exception": null,
      "input_path": "__notebook__.ipynb",
      "output_path": "__notebook__.ipynb",
      "parameters": {},
      "start_time": "2023-03-28T16:47:00.145958",
      "version": "2.4.0"
    },
    "colab": {
      "provenance": []
    }
  },
  "nbformat": 4,
  "nbformat_minor": 5
}